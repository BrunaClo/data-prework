{
 "cells": [
  {
   "cell_type": "markdown",
   "metadata": {},
   "source": [
    "<img src=\"https://bit.ly/2VnXWr2\" width=\"100\" align=\"left\">"
   ]
  },
  {
   "cell_type": "markdown",
   "metadata": {},
   "source": [
    "# Temperature Sensor\n",
    "\n",
    "There is a temperature sensor in the processor of your company's server. The company wants to analyze the data provided by the sensor to decide if they should change the cooling system for a better one. As changing the cooling system is expensive and you are an excellent data analyst, you can't make a decision without basis.\n",
    "\n",
    "## Tools\n",
    "You don't necessarily need to use all the tools. Maybe you opt to use some of them or completely different ones, they are given to help you shape the exercise. Programming exercises can be solved in many different ways.\n",
    "1. Data structures: **lists**\n",
    "2. Loops: **list comprehension**\n",
    "3. Functions: **min, max, print, len**\n",
    "4. Conditional statements: **if-elif-else**\n",
    "\n",
    "## Tasks\n",
    "The temperatures measured throughout the 24 hours of a day are:"
   ]
  },
  {
   "cell_type": "code",
   "execution_count": 50,
   "metadata": {},
   "outputs": [],
   "source": [
    "temperatures_C = [33, 66, 65, 0, 59, 60, 62, 64, 70, 76, 80, 81, 80, 83, 90, 79, 61, 53, 50, 49, 53, 48, 45, 39]"
   ]
  },
  {
   "cell_type": "markdown",
   "metadata": {},
   "source": [
    "The first element of the list is the temperature at 12am, the second element is the temperature at 1am, and so on. \n",
    "\n",
    "The company has decided that if one of the following events occurs, then the cooling system needs to be replaced for a new one to avoid damaging the processor.\n",
    "* More than 4 temperatures are greater than or equal to 70ºC.\n",
    "* Any temperature is above 80ºC.\n",
    "* The average temperature exceeds 65ºC.\n",
    "\n",
    "Follow the steps so that you can make the decision.\n",
    "\n",
    "#### 1. Find the minimum temperature of the day and store it in a variable."
   ]
  },
  {
   "cell_type": "code",
   "execution_count": 51,
   "metadata": {},
   "outputs": [
    {
     "name": "stdout",
     "output_type": "stream",
     "text": [
      "\n",
      "The minimum temperature of the day is 0°C\n"
     ]
    }
   ],
   "source": [
    "cold_temp = min(temperatures_C)\n",
    "print(f\"\\nThe minimum temperature of the day is {cold_temp}°C\")"
   ]
  },
  {
   "cell_type": "markdown",
   "metadata": {},
   "source": [
    "#### 2. Find the maximum temperature of the day and store it in a variable."
   ]
  },
  {
   "cell_type": "code",
   "execution_count": 52,
   "metadata": {},
   "outputs": [
    {
     "name": "stdout",
     "output_type": "stream",
     "text": [
      "\n",
      "The maximum temperature of the day is 90°C\n"
     ]
    }
   ],
   "source": [
    "hot_temp = max(temperatures_C)\n",
    "print(f\"\\nThe maximum temperature of the day is {hot_temp}°C\")"
   ]
  },
  {
   "cell_type": "markdown",
   "metadata": {},
   "source": [
    "#### 3. Create a list with the temperatures that are greater than or equal to 70ºC. Store it in a variable."
   ]
  },
  {
   "cell_type": "code",
   "execution_count": 53,
   "metadata": {},
   "outputs": [
    {
     "name": "stdout",
     "output_type": "stream",
     "text": [
      "\n",
      "The temperatures greater than or equal to 70°C are :\n",
      "[70, 76, 80, 81, 80, 83, 90, 79]\n"
     ]
    }
   ],
   "source": [
    "temp_70 = []\n",
    "for t in temperatures_C:\n",
    "    if t >= 70:\n",
    "        temp_70.append(t)\n",
    "    \n",
    "print(f\"\\nThe temperatures greater than or equal to 70°C are :\\n{temp_70}\")"
   ]
  },
  {
   "cell_type": "markdown",
   "metadata": {},
   "source": [
    "#### 4. Find the average temperature of the day and store it in a variable."
   ]
  },
  {
   "cell_type": "code",
   "execution_count": 54,
   "metadata": {},
   "outputs": [
    {
     "name": "stdout",
     "output_type": "stream",
     "text": [
      "\n",
      "The average temperature of the day is 60°C\n"
     ]
    }
   ],
   "source": [
    "from statistics import mean\n",
    "\n",
    "average_temp = round(mean(temperatures_C))\n",
    "print(f\"\\nThe average temperature of the day is {average_temp}°C\")"
   ]
  },
  {
   "cell_type": "markdown",
   "metadata": {},
   "source": [
    "#### 5. Imagine that there was a sensor failure at 3am and the data for that specific hour was not recorded. How would you estimate the missing value? Replace the current value of the list at 3am for an estimation. "
   ]
  },
  {
   "cell_type": "code",
   "execution_count": 55,
   "metadata": {},
   "outputs": [
    {
     "name": "stdout",
     "output_type": "stream",
     "text": [
      "\n",
      "The value of the temperature at 3am would be 62°C\n"
     ]
    }
   ],
   "source": [
    "temperatures_C[3] = round((temperatures_C[2] + temperatures_C[4])/2)\n",
    "print(f\"\\nThe value of the temperature at 3am would be {temperatures_C[3]}°C\")"
   ]
  },
  {
   "cell_type": "markdown",
   "metadata": {},
   "source": [
    "#### 6. Bonus: the maintenance staff is from the United States and does not understand the international metric system. Help them by converting the temperatures from Celsius to Fahrenheit.\n",
    "To know more about temperature conversion check this [link](https://en.wikipedia.org/wiki/Conversion_of_units_of_temperature).\n",
    "\n",
    "**Formula**: \n",
    "\n",
    "$F = 1.8 * C + 32$"
   ]
  },
  {
   "cell_type": "code",
   "execution_count": 56,
   "metadata": {},
   "outputs": [
    {
     "name": "stdout",
     "output_type": "stream",
     "text": [
      "\n",
      "The Fahrenheit Temperatures are :\n",
      "[91, 151, 149, 144, 138, 140, 144, 147, 158, 169, 176, 178, 176, 181, 194, 174, 142, 127, 122, 120, 127, 118, 113, 102]\n"
     ]
    }
   ],
   "source": [
    "temperatures_F = [round(1.8*f + 32) for f in temperatures_C]\n",
    "print(f\"\\nThe Fahrenheit Temperatures are :\\n{temperatures_F}\")"
   ]
  },
  {
   "cell_type": "markdown",
   "metadata": {},
   "source": [
    "#### 7. Make a decision!\n",
    "Now it's time to make a decision taking into account what you have seen until now. \n",
    "\n",
    "Remember that if one of the following events occurs, then the cooling system needs to be replaced for a new one to avoid damaging the processor.\n",
    "* More than 4 temperatures are greater than or equal to 70ºC.\n",
    "* Any temperature is above 80ºC.\n",
    "* The average temperature exceeds 65ºC.\n",
    "\n",
    "#### To make your decision, check if any of the three conditions above is met. You might need to use some of the variables you created in steps 1 to 6. Print a message to show if the cooling system needs to be changed or not."
   ]
  },
  {
   "cell_type": "code",
   "execution_count": 57,
   "metadata": {},
   "outputs": [
    {
     "name": "stdout",
     "output_type": "stream",
     "text": [
      "\n",
      "There are 8 temperatures greater than or equal to 70°C : condition attained\n",
      "The average temperature is 5°C under 65°C : condition non-attained\n",
      "There are 3 temperatures over 80°C : condition attained\n",
      "\n",
      "There are 2 condition attained.\n",
      "Server overheated : Please change the cooling system!\n"
     ]
    }
   ],
   "source": [
    "conditions = 0\n",
    "temp_80 = []\n",
    "\n",
    "if len(temp_70) >= 4:\n",
    "        print(f\"\\nThere are {len(temp_70)} temperatures greater than or equal to 70°C : condition attained\")\n",
    "        conditions += 1\n",
    "else:\n",
    "                print(f\"There is no temperature greater than or equal to 70°C : condition non-attained\")\n",
    "if average_temp > 65:                        \n",
    "        print(f\"The average temperature is {average_temp-65}°C greater than 65°C : condition attained\")\n",
    "        conditions += 1\n",
    "else:\n",
    "            print(f\"The average temperature is {65-average_temp}°C under 65°C : condition non-attained\")\n",
    "\n",
    "for t in temperatures_C:\n",
    "    if t > 80:\n",
    "        temp_80.append(t)\n",
    "if len(temp_80) >= 1:\n",
    "    conditions += 1\n",
    "    print(f\"There are {len(temp_80)} temperatures over 80°C : condition attained\")\n",
    "else: \n",
    "    print(f\"There is no temperature over 80°C : condition non-attained\")\n",
    "                \n",
    "if conditions == 1 or 2 or 3:  \n",
    "        print(f\"\"\"\\nThere are {conditions} condition attained.\n",
    "Server overheated : Please change the cooling system!\"\"\")\n",
    "else:\n",
    "        print(f\"\\nThe cooling system is operative\")"
   ]
  },
  {
   "cell_type": "markdown",
   "metadata": {},
   "source": [
    "## Bonus\n",
    "\n",
    "The company has decided that the decision you made is not valid. They want you to analyze the data again but this time, the conditions that need to be met in order to change the cooling system are different.\n",
    "\n",
    "This time, if one of the following events occurs, then the cooling system needs to be replaced:\n",
    "* The temperature is greater than 70ºC during more than 4 consecutive hours.\n",
    "* Any temperature is above 80ºC.\n",
    "* The average temperature exceeds 65ºC.\n",
    "\n",
    "Follow the steps so that you can make the decision.\n",
    "\n",
    "#### 1. Create a list with the hours where the temperature is greater than 70ºC. Store it in a variable."
   ]
  },
  {
   "cell_type": "code",
   "execution_count": 58,
   "metadata": {},
   "outputs": [
    {
     "name": "stdout",
     "output_type": "stream",
     "text": [
      "\n",
      "The hours with temperatures over than 70°C are :\n",
      "['9am', '10am', '11am', '12pm', '1pm', '2pm', '3pm']\n"
     ]
    }
   ],
   "source": [
    "over_70 = []\n",
    "for h in range(len(temperatures_C)):\n",
    "    if temperatures_C[h] > 70:\n",
    "                   if h == 0:\n",
    "                       over_70.append(\"12am\")\n",
    "                   elif h < 12:\n",
    "                       over_70.append(str(h) + \"am\")\n",
    "                   if h == 12:\n",
    "                       over_70.append(str(h) + \"pm\")\n",
    "                   elif h > 12:\n",
    "                       over_70.append(str(h-12) + \"pm\")\n",
    "                    \n",
    "             \n",
    "print(f\"\"\"\\nThe hours with temperatures over than 70°C are :\n",
    "{over_70}\"\"\")\n"
   ]
  },
  {
   "cell_type": "markdown",
   "metadata": {},
   "source": [
    "#### 2. Check if the list you created in step 1 has more than 4 consecutive hours. "
   ]
  },
  {
   "cell_type": "code",
   "execution_count": 59,
   "metadata": {},
   "outputs": [
    {
     "name": "stdout",
     "output_type": "stream",
     "text": [
      "\n",
      "At 12am the temperature was 33°C\n",
      "\n",
      "At 1am the temperature was 66°C\n",
      "\n",
      "At 2am the temperature was 65°C\n",
      "\n",
      "At 3am the temperature was 62°C\n",
      "\n",
      "At 4am the temperature was 59°C\n",
      "\n",
      "At 5am the temperature was 60°C\n",
      "\n",
      "At 6am the temperature was 62°C\n",
      "\n",
      "At 7am the temperature was 64°C\n",
      "\n",
      "At 8am the temperature was 70°C\n",
      "\n",
      "At 9am the temperature was 76°C\n",
      "1 Temperature(s) is/are over 70°C\n",
      "\n",
      "At 10am the temperature was 80°C\n",
      "2 Temperature(s) is/are over 70°C\n",
      "\n",
      "At 11am the temperature was 81°C\n",
      "3 Temperature(s) is/are over 70°C\n",
      "\n",
      "At 12pm the temperature was 80°C\n",
      "4 Temperature(s) is/are over 70°C\n",
      "\n",
      "At 1pm the temperature was 83°C\n",
      "5 Temperature(s) is/are over 70°C\n",
      "\n",
      "We do have more than 4 consectives hours with temperatures over 70°C.\n",
      "Condition attained\n"
     ]
    }
   ],
   "source": [
    "consec_hours = 0\n",
    "non_consec = 0\n",
    "last_hour = None\n",
    "conditions2 = 0\n",
    "Hours = []\n",
    "for h in range(len(temperatures_C)):\n",
    "                   if h == 0:\n",
    "                       Hours.append(\"12am\")\n",
    "                   elif h < 12:\n",
    "                       Hours.append(str(h) + \"am\")\n",
    "                   elif h == 12:\n",
    "                       Hours.append(str(h) + \"pm\")\n",
    "                   else :\n",
    "                      Hours.append(str(h-12) + \"pm\")\n",
    "                      \n",
    "for t in range(len(temperatures_C)):\n",
    "       hour_temp = temperatures_C[t]\n",
    "       print(f\"\\nAt %s the temperature was {hour_temp}°C\"%Hours[t])\n",
    "       if hour_temp > 70:\n",
    "           if last_hour != '70':\n",
    "               last_hour = '70'\n",
    "               consec_hours = 1\n",
    "           else:\n",
    "               consec_hours += 1\n",
    "               print(f\"{consec_hours} Temperature(s) is/are over 70°C\")               \n",
    "       if hour_temp <= 70:\n",
    "           if last_hour != '70':\n",
    "               last_hour = '70'\n",
    "               non_consec += 1\n",
    "       if consec_hours > 4:\n",
    "          print(f\"\"\"\\nWe do have more than 4 consectives hours with temperatures over 70°C.\n",
    "Condition attained\"\"\")          \n",
    "          conditions2 += 1\n",
    "          break"
   ]
  },
  {
   "cell_type": "markdown",
   "metadata": {},
   "source": [
    "#### 3. Make the decision!\n",
    "To make your decision, check if any of the three conditions is met. Print a message to show if the cooling system needs to be changed or not."
   ]
  },
  {
   "cell_type": "code",
   "execution_count": 60,
   "metadata": {},
   "outputs": [
    {
     "name": "stdout",
     "output_type": "stream",
     "text": [
      "The average temperature is 5°C under 65°C : condition non-attained\n",
      "There are 3 temperatures over 80°C : condition attained\n",
      "\n",
      "There are 2 condition attained.\n",
      "Server overheated : Please change the cooling system!\n"
     ]
    }
   ],
   "source": [
    "if average_temp > 65:                        \n",
    "        print(f\"The average temperature is {average_temp-65}°C greater than 65°C : condition attained\")\n",
    "        conditions2 += 1\n",
    "else:\n",
    "        print(f\"The average temperature is {65-average_temp}°C under 65°C : condition non-attained\")\n",
    "\n",
    "if len(temp_80) >= 1:\n",
    "    conditions2 += 1\n",
    "    print(f\"There are {len(temp_80)} temperatures over 80°C : condition attained\")\n",
    "else: \n",
    "    print(f\"There is no temperature over 80°C : condition non-attained\")\n",
    "                \n",
    "if conditions2 == 1 or 2 or 3:  \n",
    "        print(f\"\"\"\\nThere are {conditions2} condition attained.\n",
    "Server overheated : Please change the cooling system!\"\"\")\n",
    "else:\n",
    "        print(f\"\\nThe cooling system is operative\")"
   ]
  },
  {
   "cell_type": "markdown",
   "metadata": {},
   "source": [
    "#### 4. Find the average value of the temperature lists (ºC and ºF). What is the relation between both average values?"
   ]
  },
  {
   "cell_type": "code",
   "execution_count": 65,
   "metadata": {},
   "outputs": [
    {
     "name": "stdout",
     "output_type": "stream",
     "text": [
      "\n",
      "The average temperature in Celsius is 62.8°C\n",
      "and in Fahrenheit is 145.0°F\n",
      "The °F temperatures are 2.31 greater than the °C temperatures\n"
     ]
    }
   ],
   "source": [
    "from statistics import mean\n",
    "\n",
    "avg_C = (round(mean(temperatures_C,),1))\n",
    "avg_F = (round(mean(temperatures_F,),1))\n",
    "print(f\"\"\"\\nThe average temperature in Celsius is {avg_C}°C\n",
    "and in Fahrenheit is {avg_F}°F\"\"\")\n",
    "rel_avg = (round(mean(temperatures_F,),1))/(round(mean(temperatures_C,),1))\n",
    "print(f\"The °F temperatures are {round(rel_avg,2)} greater than the °C temperatures\")"
   ]
  },
  {
   "cell_type": "markdown",
   "metadata": {},
   "source": [
    "#### 5. Find the standard deviation of the temperature lists (ºC and ºF). What is the relation between both standard deviations?"
   ]
  },
  {
   "cell_type": "code",
   "execution_count": 67,
   "metadata": {},
   "outputs": [
    {
     "name": "stdout",
     "output_type": "stream",
     "text": [
      "\n",
      "The standard deviation of the temperature in Celsius is 14.9\n",
      "and in Fahrenheit is 27.0\n",
      "The standard deviation of the °F temperatures are 1.81 greater than the standard deviation of the °C temperatures\n"
     ]
    }
   ],
   "source": [
    "from statistics import stdev\n",
    "\n",
    "stdev_C = (round(stdev(temperatures_C),1))\n",
    "stdev_F = (round(stdev(temperatures_F),1))\n",
    "print(f\"\"\"\\nThe standard deviation of the temperature in Celsius is {stdev_C}\n",
    "and in Fahrenheit is {stdev_F}\"\"\")\n",
    "rel_stdev = (round(stdev(temperatures_F),1))/(round(stdev(temperatures_C),1))\n",
    "print(f\"The standard deviation of the °F temperatures are {round(rel_stdev,2)} greater than the standard deviation of the °C temperatures\")\n"
   ]
  },
  {
   "cell_type": "code",
   "execution_count": null,
   "metadata": {},
   "outputs": [],
   "source": []
  }
 ],
 "metadata": {
  "kernelspec": {
   "display_name": "Python 3",
   "language": "python",
   "name": "python3"
  },
  "language_info": {
   "codemirror_mode": {
    "name": "ipython",
    "version": 3
   },
   "file_extension": ".py",
   "mimetype": "text/x-python",
   "name": "python",
   "nbconvert_exporter": "python",
   "pygments_lexer": "ipython3",
   "version": "3.8.5"
  }
 },
 "nbformat": 4,
 "nbformat_minor": 2
}
