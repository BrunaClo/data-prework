{
 "cells": [
  {
   "cell_type": "markdown",
   "metadata": {},
   "source": [
    "<img src=\"https://bit.ly/2VnXWr2\" width=\"100\" align=\"left\">"
   ]
  },
  {
   "cell_type": "markdown",
   "metadata": {},
   "source": [
    "# The Snail and the Well\n",
    "\n",
    "A snail falls at the bottom of a 125 cm well. Each day the snail rises 30 cm. But at night, while sleeping, slides 20 cm because the walls are wet. How many days does it take for the snail to escape the well?\n",
    "\n",
    "**Hint**: The snail gets out of the well when it surpasses the 125cm of height.\n",
    "\n",
    "## Tools\n",
    "\n",
    "1. Loop: **while**\n",
    "2. Conditional statements: **if-else**\n",
    "3. Function: **print()**\n",
    "\n",
    "## Tasks\n",
    "\n",
    "#### 1. Assign the challenge data to variables with representative names: `well_height`, `daily_distance`, `nightly_distance` and `snail_position`."
   ]
  },
  {
   "cell_type": "code",
   "execution_count": 23,
   "metadata": {},
   "outputs": [],
   "source": [
    "well_height = 0\n",
    "daily_distance = 30\n",
    "night_distance = 20\n",
    "snail_position = -125\n"
   ]
  },
  {
   "cell_type": "markdown",
   "metadata": {},
   "source": [
    "#### 2. Create a variable `days` to keep count of the days that pass until the snail escapes the well. "
   ]
  },
  {
   "cell_type": "code",
   "execution_count": 24,
   "metadata": {},
   "outputs": [],
   "source": [
    "days = 0"
   ]
  },
  {
   "cell_type": "markdown",
   "metadata": {},
   "source": [
    "#### 3. Find the solution to the challenge using the variables defined above. "
   ]
  },
  {
   "cell_type": "code",
   "execution_count": 25,
   "metadata": {},
   "outputs": [
    {
     "name": "stdout",
     "output_type": "stream",
     "text": [
      "day : 1 / cm : -95\n",
      "day : 2 / cm : -85\n",
      "day : 3 / cm : -75\n",
      "day : 4 / cm : -65\n",
      "day : 5 / cm : -55\n",
      "day : 6 / cm : -45\n",
      "day : 7 / cm : -35\n",
      "day : 8 / cm : -25\n",
      "day : 9 / cm : -15\n",
      "day : 10 / cm : -5\n",
      "day : 11 / cm : 5\n"
     ]
    }
   ],
   "source": [
    "while snail_position <= well_height:\n",
    "    snail_position += daily_distance\n",
    "    days += 1\n",
    "    print(\"day :\", days, \"/ cm :\", snail_position)\n",
    "    if snail_position <= well_height:\n",
    "        snail_position -= night_distance\n",
    "    else:\n",
    "        break"
   ]
  },
  {
   "cell_type": "markdown",
   "metadata": {},
   "source": [
    "#### 4. Print the solution."
   ]
  },
  {
   "cell_type": "code",
   "execution_count": 26,
   "metadata": {},
   "outputs": [
    {
     "name": "stdout",
     "output_type": "stream",
     "text": [
      "\n",
      "The snail is free in 11 days\n",
      "\n"
     ]
    }
   ],
   "source": [
    "print(f\"\\nThe snail is free in {days} days\\n\")"
   ]
  },
  {
   "cell_type": "markdown",
   "metadata": {},
   "source": [
    "## Bonus\n",
    "The distance traveled by the snail each day is now defined by a list.\n",
    "```\n",
    "advance_cm = [30, 21, 33, 77, 44, 45, 23, 45, 12, 34, 55]\n",
    "```\n",
    "On the first day, the snail rises 30cm but during the night it slides 20cm. On the second day, the snail rises 21cm but during the night it slides 20cm, and so on. \n",
    "\n",
    "#### 1. How many days does it take for the snail to escape the well?\n",
    "Follow the same guidelines as in the previous challenge.\n",
    "\n",
    "**Hint**: Remember that the snail gets out of the well when it surpasses the 125cm of height."
   ]
  },
  {
   "cell_type": "code",
   "execution_count": 27,
   "metadata": {},
   "outputs": [
    {
     "name": "stdout",
     "output_type": "stream",
     "text": [
      "day : 1 / cm : -95\n",
      "day : 2 / cm : -94\n",
      "day : 3 / cm : -81\n",
      "day : 4 / cm : -24\n",
      "day : 5 / cm : 0\n",
      "day : 6 / cm : 25\n",
      "\n",
      "The snail is free in 6 days\n"
     ]
    }
   ],
   "source": [
    "advance_cm = [30, 21, 33, 77, 44, 45, 23, 45, 12, 34, 55]\n",
    "d = 0\n",
    "snail_posit = -125\n",
    "count = 0\n",
    "\n",
    "while snail_posit <= well_height:\n",
    "    snail_posit += advance_cm[count]\n",
    "    d += 1\n",
    "    count += 1\n",
    "    print(f\"day : {d} / cm : {snail_posit}\")\n",
    "    if snail_posit <= well_height:\n",
    "        snail_posit -= night_distance\n",
    "    else:\n",
    "        break\n",
    "    \n",
    "print(f\"\\nThe snail is free in {d} days\")"
   ]
  },
  {
   "cell_type": "markdown",
   "metadata": {},
   "source": [
    "#### 2. What is its maximum displacement in one day? And its minimum? Calculate the displacement using only the travel distance of the days used to get out of the well. \n",
    "**Hint**: Remember that displacement means the total distance risen taking into account that the snail slides at night.  "
   ]
  },
  {
   "cell_type": "code",
   "execution_count": 28,
   "metadata": {},
   "outputs": [
    {
     "name": "stdout",
     "output_type": "stream",
     "text": [
      "\n",
      "The real displacement is [10, 1, 13, 57, 24, 45] cm per day\n",
      "\n",
      "Maximum Displacement is 57cm and Minimum Displacement is 1cm\n"
     ]
    }
   ],
   "source": [
    "day_displac = []\n",
    "counter = 0\n",
    "for i in advance_cm[:d]:\n",
    "    if counter < (d - 1):\n",
    "        day_displac.append(i - night_distance)\n",
    "    else :\n",
    "        day_displac.append(i)\n",
    "    counter += 1\n",
    "print(f\"\\nThe real displacement is {day_displac} cm per day\")\n",
    "max_displacement = max(day_displac)\n",
    "min_displacement = min(day_displac)\n",
    "print(f\"\\nMaximum Displacement is {max_displacement}cm and Minimum Displacement is {min_displacement}cm\")    "
   ]
  },
  {
   "cell_type": "markdown",
   "metadata": {},
   "source": [
    "#### 3. What is its average progress? Take into account the snail slides at night."
   ]
  },
  {
   "cell_type": "code",
   "execution_count": 29,
   "metadata": {},
   "outputs": [
    {
     "name": "stdout",
     "output_type": "stream",
     "text": [
      "\n",
      "The Average Progress is 25.0cm\n"
     ]
    }
   ],
   "source": [
    "avg_progress = sum(day_displac)/len(day_displac)\n",
    "limited_avg_progress = avg_progress\n",
    "print(f\"\\nThe Average Progress is {limited_avg_progress}cm\")"
   ]
  },
  {
   "cell_type": "markdown",
   "metadata": {},
   "source": [
    "#### 4. What is the standard deviation of its displacement? Take into account the snail slides at night."
   ]
  },
  {
   "cell_type": "code",
   "execution_count": 30,
   "metadata": {
    "scrolled": true
   },
   "outputs": [
    {
     "name": "stdout",
     "output_type": "stream",
     "text": [
      "\n",
      "The Standard Deviation is 21.77\n"
     ]
    }
   ],
   "source": [
    "import statistics\n",
    "\n",
    "std_dev = statistics.stdev(day_displac)\n",
    "limited_std_dev = round(std_dev, 2)\n",
    "print(f\"\\nThe Standard Deviation is {limited_std_dev}\")"
   ]
  },
  {
   "cell_type": "code",
   "execution_count": null,
   "metadata": {},
   "outputs": [],
   "source": []
  },
  {
   "cell_type": "code",
   "execution_count": null,
   "metadata": {},
   "outputs": [],
   "source": []
  }
 ],
 "metadata": {
  "kernelspec": {
   "display_name": "Python 3",
   "language": "python",
   "name": "python3"
  },
  "language_info": {
   "codemirror_mode": {
    "name": "ipython",
    "version": 3
   },
   "file_extension": ".py",
   "mimetype": "text/x-python",
   "name": "python",
   "nbconvert_exporter": "python",
   "pygments_lexer": "ipython3",
   "version": "3.8.5"
  }
 },
 "nbformat": 4,
 "nbformat_minor": 2
}
