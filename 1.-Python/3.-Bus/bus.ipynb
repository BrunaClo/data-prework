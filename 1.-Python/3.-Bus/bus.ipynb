{
 "cells": [
  {
   "cell_type": "markdown",
   "metadata": {},
   "source": [
    "<img src=\"https://bit.ly/2VnXWr2\" width=\"100\" align=\"left\">"
   ]
  },
  {
   "cell_type": "markdown",
   "metadata": {},
   "source": [
    "# Bus\n",
    "\n",
    "This bus has a passenger entry and exit control system to monitor the number of occupants it carries and thus detect when there are too many.\n",
    "\n",
    "At each stop, the entry and exit of passengers is represented by a tuple consisting of two integer numbers.\n",
    "```\n",
    "bus_stop = (in, out)\n",
    "```\n",
    "The succession of stops is represented by a list of these tuples.\n",
    "```\n",
    "stops = [(in1, out1), (in2, out2), (in3, out3), (in4, out4)]\n",
    "```\n",
    "\n",
    "## Tools\n",
    "You don't necessarily need to use all the tools. Maybe you opt to use some of them or completely different ones, they are given to help you shape the exercise. Programming exercises can be solved in many different ways.\n",
    "* Data structures: **lists, tuples**\n",
    "* Loop: **while/for loops**\n",
    "* Functions: **min, max, len**\n",
    "\n",
    "## Tasks"
   ]
  },
  {
   "cell_type": "code",
   "execution_count": 1,
   "metadata": {},
   "outputs": [],
   "source": [
    "# Variables\n",
    "stops = [(10, 0), (4, 1), (3, 5), (3, 4), (5, 1), (1, 5), (5, 8), (4, 6), (2, 3)]"
   ]
  },
  {
   "cell_type": "markdown",
   "metadata": {},
   "source": [
    "#### 1. Calculate the number of stops."
   ]
  },
  {
   "cell_type": "code",
   "execution_count": 2,
   "metadata": {},
   "outputs": [
    {
     "name": "stdout",
     "output_type": "stream",
     "text": [
      "The bus made 9 stops.\n"
     ]
    }
   ],
   "source": [
    "print(f\"The bus made {len(stops)} stops.\")"
   ]
  },
  {
   "cell_type": "markdown",
   "metadata": {},
   "source": [
    "#### 2. Assign to a variable a list whose elements are the number of passengers at each stop (in-out).\n",
    "Each item depends on the previous item in the list + in - out."
   ]
  },
  {
   "cell_type": "code",
   "execution_count": 3,
   "metadata": {},
   "outputs": [
    {
     "name": "stdout",
     "output_type": "stream",
     "text": [
      "\n",
      "The number of passenger entering the bus in each stop is:\n",
      "(10, 4, 3, 3, 5, 1, 5, 4, 2)\n",
      "\n",
      "The number of passenger leaving the bus in each stop is:\n",
      "(0, 1, 5, 4, 1, 5, 8, 6, 3)\n",
      "\n",
      "In the 1st stop entered 10 passenger(s) and left 0 passenger(s)\n",
      "After leaving this stop, there were 10 passenger(s)\n",
      "\n",
      "In the 2nd stop entered 4 passenger(s) and left 1 passenger(s)\n",
      "After leaving this stop, there were 13 passenger(s)\n",
      "\n",
      "In the 3rd stop entered 3 passenger(s) and left 5 passenger(s)\n",
      "After leaving this stop, there were 11 passenger(s)\n",
      "\n",
      "In the 4th stop entered 3 passenger(s) and left 4 passenger(s)\n",
      "After leaving this stop, there were 10 passenger(s)\n",
      "\n",
      "In the 5th stop entered 5 passenger(s) and left 1 passenger(s)\n",
      "After leaving this stop, there were 14 passenger(s)\n",
      "\n",
      "In the 6th stop entered 1 passenger(s) and left 5 passenger(s)\n",
      "After leaving this stop, there were 10 passenger(s)\n",
      "\n",
      "In the 7th stop entered 5 passenger(s) and left 8 passenger(s)\n",
      "After leaving this stop, there were 7 passenger(s)\n",
      "\n",
      "In the 8th stop entered 4 passenger(s) and left 6 passenger(s)\n",
      "After leaving this stop, there were 5 passenger(s)\n",
      "\n",
      "In the 9th stop entered 2 passenger(s) and left 3 passenger(s)\n",
      "After leaving this stop, there were 4 passenger(s)\n"
     ]
    }
   ],
   "source": [
    "round_stop = []\n",
    "for r in range(len(stops)):\n",
    "                   if r == 0:\n",
    "                       round_stop.append(str(r+1) + \"st\")\n",
    "                   elif r == 1:\n",
    "                       round_stop.append(str(r+1) + \"nd\")\n",
    "                   elif r == 2:\n",
    "                       round_stop.append(str(r+1) + \"rd\")\n",
    "                   else :\n",
    "                      round_stop.append(str(r+1) + \"th\")\n",
    "\n",
    "\n",
    "passengers_in = []\n",
    "passengers_out = []\n",
    "\n",
    "passengers_in, passengers_out = zip(*stops)\n",
    "print(f\"\"\"\\nThe number of passenger entering the bus in each stop is:\n",
    "{passengers_in}\"\"\")\n",
    "print(f\"\"\"\\nThe number of passenger leaving the bus in each stop is:\n",
    "{passengers_out}\"\"\")\n",
    "\n",
    "flux = []\n",
    "flux_cont = []\n",
    "\n",
    "for t in range(len(stops)):\n",
    "    flux = tuple(map(lambda i, j:i-j, passengers_in, passengers_out))\n",
    "    flux_cont.append(sum(flux[0:t+1]))\n",
    "    for e in passengers_in[t:t+1]:\n",
    "        for o in passengers_out[t:t+1]:\n",
    "            print(f\"\\nIn the %s stop entered {passengers_in[t]} passenger(s) and left {passengers_out[t]} passenger(s)\" % round_stop[t])\n",
    "    print(f\"After leaving this stop, there were {sum(flux[0:t+1])} passenger(s)\")\n"
   ]
  },
  {
   "cell_type": "markdown",
   "metadata": {},
   "source": [
    "#### 3. Find the maximum occupation of the bus."
   ]
  },
  {
   "cell_type": "code",
   "execution_count": 6,
   "metadata": {},
   "outputs": [
    {
     "name": "stdout",
     "output_type": "stream",
     "text": [
      "\n",
      "The Maximun Occupation of the Bus is 14 passengers.\n"
     ]
    }
   ],
   "source": [
    "print(f\"\\nThe Maximun Occupation of the Bus is {max(flux_cont)} passengers.\")\n"
   ]
  },
  {
   "cell_type": "markdown",
   "metadata": {},
   "source": [
    "#### 4. Calculate the average occupation. And the standard deviation."
   ]
  },
  {
   "cell_type": "code",
   "execution_count": 5,
   "metadata": {},
   "outputs": [
    {
     "name": "stdout",
     "output_type": "stream",
     "text": [
      "\n",
      "The Bus' Avarage Occupation is 9.3 passengers.\n",
      "\n",
      "The Bus' Standard Deviation is 3.4\n"
     ]
    }
   ],
   "source": [
    "import statistics\n",
    "\n",
    "print(f\"\\nThe Bus' Avarage Occupation is {round(statistics.mean(flux_cont),1)} passengers.\")\n",
    "\n",
    "print(f\"\\nThe Bus' Standard Deviation is {round(statistics.stdev(flux_cont),1)}\")\n"
   ]
  },
  {
   "cell_type": "code",
   "execution_count": null,
   "metadata": {},
   "outputs": [],
   "source": []
  }
 ],
 "metadata": {
  "kernelspec": {
   "display_name": "Python 3",
   "language": "python",
   "name": "python3"
  },
  "language_info": {
   "codemirror_mode": {
    "name": "ipython",
    "version": 3
   },
   "file_extension": ".py",
   "mimetype": "text/x-python",
   "name": "python",
   "nbconvert_exporter": "python",
   "pygments_lexer": "ipython3",
   "version": "3.8.5"
  }
 },
 "nbformat": 4,
 "nbformat_minor": 2
}
