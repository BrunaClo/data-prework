{
 "cells": [
  {
   "cell_type": "markdown",
   "metadata": {},
   "source": [
    "<img src=\"https://bit.ly/2VnXWr2\" width=\"100\" align=\"left\">"
   ]
  },
  {
   "cell_type": "markdown",
   "metadata": {},
   "source": [
    "# Rock, Paper & Scissors\n",
    "\n",
    "Let's play the famous game against our computer. You can check the rules [here](https://en.wikipedia.org/wiki/Rock%E2%80%93paper%E2%80%93scissors). \n",
    "\n",
    "## Task\n",
    "Create a program that imitates the playability of the well known game of rock, paper, scissors. Follow the guidelines provided.\n",
    "\n",
    "## Tools\n",
    "1. Loop: **for/while**\n",
    "2. Functions: **input(), print()...**\n",
    "3. Conditional statements: **if, elif, else**\n",
    "4. Definition of functions. Modular programming\n",
    "5. Import modules\n",
    "\n",
    "**To solve this challenge, the use of functions is recommended.**\n",
    "\n",
    "#### 1. Import the choice function of the random module."
   ]
  },
  {
   "cell_type": "code",
   "execution_count": null,
   "metadata": {},
   "outputs": [],
   "source": [
    "from random import choice"
   ]
  },
  {
   "cell_type": "markdown",
   "metadata": {},
   "source": [
    "#### 2. Create a list that includes the 3 possible gesture options of the game: 'rock', 'paper' or 'scissors'. Store the list in a variable called `gestures`."
   ]
  },
  {
   "cell_type": "code",
   "execution_count": null,
   "metadata": {},
   "outputs": [],
   "source": [
    "gestures_dispo = ['rock ', 'paper', 'scissor']\n",
    "gestures_dict = {\"rock\": \"scissor\", \"paper\": \"rock\", \"scissor\": \"paper\"}\n",
    "gestures = list(gestures_dict.keys())\n"
   ]
  },
  {
   "cell_type": "markdown",
   "metadata": {},
   "source": [
    "#### 3. Create a variable called `n_rounds` to store the maximum number of rounds to play in a game. \n",
    "Remember that the number of rounds must be odd: 1, 3, 5, ..."
   ]
  },
  {
   "cell_type": "code",
   "execution_count": 4,
   "metadata": {},
   "outputs": [
    {
     "name": "stdout",
     "output_type": "stream",
     "text": [
      "\n",
      "How many rounds this game will have?3\n",
      "We are playing 3 rounds!\n",
      "\n"
     ]
    }
   ],
   "source": [
    "n_rounds = 0\n",
    "\n",
    "while n_rounds == 0:\n",
    "    while True:\n",
    "        try:\n",
    "            n_rounds = int(input('\\nHow many rounds this game will have?'))\n",
    "            if n_rounds % 2 == 0:\n",
    "                print(\"It will be hard to have a winner.\\n\")      \n",
    "                new_rounds = int(input(f\"Would you prefer play {n_rounds - 1} or {n_rounds + 1} rounds? \"))\n",
    "                if new_rounds == n_rounds - 1:\n",
    "                    n_rounds = new_rounds\n",
    "                elif new_rounds == n_rounds + 1:\n",
    "                    n_rounds = new_rounds\n",
    "                else:\n",
    "                    print(f\"{new_rounds} is not possible. Let's re-start, okay?\")\n",
    "                    n_rounds = 0\n",
    "            if n_rounds % 2 != 0:\n",
    "                print(f\"We are playing {n_rounds} rounds!\\n\")\n",
    "                if int(n_rounds) > 9:\n",
    "                        print(\"Brace yourselves : this battle may be long...!\\n\")\n",
    "                        break\n",
    "                break\n",
    "        except ValueError:\n",
    "            print(f\"That's not a valid option.\")\n",
    "            n_rounds = 0\n",
    "\n"
   ]
  },
  {
   "cell_type": "markdown",
   "metadata": {},
   "source": [
    "#### 4. Create a variable called `rounds_to_win` to store the number of rounds that a player must win to win the game.\n",
    "**Hint**: the value stored in `rounds_to_win` depends on the value of `n_rounds`. "
   ]
  },
  {
   "cell_type": "code",
   "execution_count": 5,
   "metadata": {},
   "outputs": [
    {
     "name": "stdout",
     "output_type": "stream",
     "text": [
      "You will need to win 2 rounds sur 3\n"
     ]
    }
   ],
   "source": [
    "rounds_to_win = round((n_rounds/2) + 0.5)\n",
    "print(f\"You will need to win {rounds_to_win} rounds sur {n_rounds}\")"
   ]
  },
  {
   "cell_type": "markdown",
   "metadata": {},
   "source": [
    "#### 5. Create two variables to store the number of rounds that the computer and the player have won. Call these variables `cpu_score` and `player_score`."
   ]
  },
  {
   "cell_type": "code",
   "execution_count": 6,
   "metadata": {},
   "outputs": [],
   "source": [
    "player_score = 0\n",
    "cpu_score = 0\n"
   ]
  },
  {
   "cell_type": "markdown",
   "metadata": {},
   "source": [
    "#### 6. Define a function that randomly returns one of the 3 gesture options.\n",
    "You will use this function to simulate the gesture choice of the computer. "
   ]
  },
  {
   "cell_type": "code",
   "execution_count": 7,
   "metadata": {},
   "outputs": [],
   "source": [
    "def cpu(gestures):\n",
    "    cpu_moves = choice(gestures)\n",
    "    return cpu_moves"
   ]
  },
  {
   "cell_type": "markdown",
   "metadata": {},
   "source": [
    "#### 7. Define a function that asks the player which is the gesture he or she wants to show: 'rock', 'paper' or 'scissors'.\n",
    "The player should only be allowed to choose one of the 3 gesture options. If the player's choice is not rock, paper or scissors, keep asking until it is."
   ]
  },
  {
   "cell_type": "code",
   "execution_count": 8,
   "metadata": {},
   "outputs": [],
   "source": [
    "def player_move(gestures):\n",
    "    choix_player = 0\n",
    "    while choix_player == 0:\n",
    "            print(f\"Moves disponibles: {gestures_dispo}\")\n",
    "            choix_player = (input(f\"\\nWhat is your move?\"))        \n",
    "            if choix_player in gestures:\n",
    "                return choix_player\n",
    "            else:\n",
    "                print(\"That's not a valid option.\")\n",
    "                choix_player = 0"
   ]
  },
  {
   "cell_type": "markdown",
   "metadata": {},
   "source": [
    "#### 8. Define a function that checks who won a round. \n",
    "The function should return 0 if there is a tie, 1 if the computer wins and 2 if the player wins."
   ]
  },
  {
   "cell_type": "code",
   "execution_count": 9,
   "metadata": {},
   "outputs": [],
   "source": [
    "def move_winner(cpu_choix, player_choix):\n",
    "    if cpu_choix == player_choix:\n",
    "        return 0\n",
    "    else:\n",
    "        if (cpu_choix == \"rock\" and player_choix == \"scissors\"):\n",
    "            return 1\n",
    "        if (cpu_choix == \"paper\" and player_choix == \"rock\"): \n",
    "            return 1\n",
    "        if (cpu_choix == \"scissors\" and player_choix == \"paper\"):\n",
    "            return 1\n",
    "        else:\n",
    "            return 2"
   ]
  },
  {
   "cell_type": "markdown",
   "metadata": {},
   "source": [
    "#### 9. Define a function that prints the choice of the computer, the choice of the player and a message that announces who won the current round. \n",
    "You should also use this function to update the variables that count the number of rounds that the computer and the player have won. The score of the winner increases by one point. If there is a tie, the score does not increase."
   ]
  },
  {
   "cell_type": "code",
   "execution_count": 10,
   "metadata": {},
   "outputs": [],
   "source": [
    "def Rounds(r):\n",
    "    resultat = {0: \"It's a tie!\", 1: \"You lose\", 2:\"You win\" }\n",
    "    print(\"You choose\", choix_player, \"vs The PC\" , cpu_choix)    \n",
    "    print(resultat[r])\n",
    "\n",
    "        \n",
    "    \n",
    "        \n",
    "        \n",
    "        \n",
    "    \n"
   ]
  },
  {
   "cell_type": "markdown",
   "metadata": {},
   "source": [
    "#### 10. Now it's time to code the execution of the game using the functions and variables you defined above. \n",
    "\n",
    "First, create a loop structure that repeats while no player reaches the minimum score necessary to win and the number of rounds is less than the maximum number of rounds to play in a game.  \n",
    "\n",
    "Inside the loop, use the functions and variables above to create the execution of a round: ask for the player's choice, generate the random choice of the computer, show the round results, update the scores, etc. "
   ]
  },
  {
   "cell_type": "code",
   "execution_count": 11,
   "metadata": {},
   "outputs": [
    {
     "name": "stdout",
     "output_type": "stream",
     "text": [
      "Moves disponibles: ['rock ', 'paper', 'scissor']\n",
      "\n",
      "What is your move?scissor\n",
      "You choose scissor vs The PC rock\n",
      "You win\n",
      "The PC has 0 points\n",
      "You have 1 points\n",
      "\n",
      "Moves disponibles: ['rock ', 'paper', 'scissor']\n",
      "\n",
      "What is your move?rock\n",
      "You choose rock vs The PC rock\n",
      "It's a tie!\n",
      "The PC has 0 points\n",
      "You have 1 points\n",
      "\n",
      "Moves disponibles: ['rock ', 'paper', 'scissor']\n",
      "\n",
      "What is your move?paper\n",
      "You choose paper vs The PC paper\n",
      "It's a tie!\n",
      "The PC has 0 points\n",
      "You have 1 points\n",
      "\n"
     ]
    }
   ],
   "source": [
    " \n",
    "rounds_total = 0\n",
    "while rounds_total < (n_rounds) and cpu_score < rounds_to_win and player_score < rounds_to_win:\n",
    "    choix_player = player_move(gestures)\n",
    "    cpu_choix = cpu(gestures)\n",
    "    winner = move_winner(choix_player, cpu_choix)\n",
    "    Rounds(winner)\n",
    "    rounds_total += 1\n",
    "    if winner == 1:\n",
    "        cpu_score += 1\n",
    "        print(f\"\"\"The PC has {cpu_score} points\n",
    "You have {player_score} points\\n\"\"\")\n",
    "    elif winner == 2:\n",
    "        player_score += 1\n",
    "        print(f\"\"\"The PC has {cpu_score} points\n",
    "You have {player_score} points\\n\"\"\")\n",
    "    else:\n",
    "        print(f\"\"\"The PC has {cpu_score} points\n",
    "You have {player_score} points\\n\"\"\")\n",
    "    \n",
    " "
   ]
  },
  {
   "cell_type": "raw",
   "metadata": {},
   "source": [
    "#### 11. Print the winner of the game based on who won more rounds.\n",
    "Remember that the game might be tied. "
   ]
  },
  {
   "cell_type": "code",
   "execution_count": 12,
   "metadata": {},
   "outputs": [
    {
     "name": "stdout",
     "output_type": "stream",
     "text": [
      "\n",
      " You got 1 wins and the PC only got 0 wins\n",
      "********** UHHUUL YOU WINNER **********\n",
      "\n",
      "Would you like to re-play it? Yes (1) or No (2):1\n"
     ]
    }
   ],
   "source": [
    "\n",
    "if player_score > cpu_score:\n",
    "            print(f\"\"\"\\n You got {player_score} wins and the PC only got {cpu_score} wins\n",
    "{'*'*10} UHHUUL YOU WINNER {'*'*10}\"\"\")        \n",
    "if player_score < cpu_score:\n",
    "            print(f\"\"\"\\n The PC got {cpu_score} wins and You only got {player_score} wins\n",
    "{'*'*10} UHHUUL YOU LOSER {'*'*10}\"\"\")        \n",
    "if player_score == cpu_score:\n",
    "            print(\"\\nIt's a tie! You can't let the machine walk free\")\n",
    "        \n",
    "re_play = 0\n",
    "while re_play == 0:\n",
    "            re_play = (input(f\"\\nWould you like to re-play it? Yes (1) or No (2):\"))\n",
    "            if re_play == ('1'):\n",
    "                player_score = 0\n",
    "                cpu_score = 0\n",
    "                n_rounds = 0\n",
    "                rounds_total = 0\n",
    "            elif re_play == ('2'):\n",
    "                print(\"Thanks for playing\")\n",
    "                n_rounds = rounds_total\n",
    "                break      \n",
    "            else:\n",
    "                print(\"That's not a valid option\")\n",
    "                re_play = 0\n",
    "\n",
    "\n",
    "                "
   ]
  },
  {
   "cell_type": "markdown",
   "metadata": {},
   "source": [
    "# Bonus: Rock, Paper, Scissors, Lizard & Spock\n",
    "![](images/rpsls.jpg)\n",
    "\n",
    "In this challenge, you need to improve the previous game by adding two new options. To know more about the rules of the improved version of rock, paper, scissors, check this [link](http://www.samkass.com/theories/RPSSL.html). \n",
    "\n",
    "In addition, you will also need to improve how the game interacts with the player: the number of rounds to play, which must be an odd number, will be requested to the user until a valid number is entered. Define a new function to make that request.\n",
    "\n",
    "**Hint**: Try to reuse the code that you already coded in the previous challenge. If your code is efficient, this bonus will only consist of simple modifications to the original game."
   ]
  },
  {
   "cell_type": "code",
   "execution_count": 15,
   "metadata": {
    "scrolled": true
   },
   "outputs": [
    {
     "name": "stdout",
     "output_type": "stream",
     "text": [
      "\n",
      "How many rounds this game will have?3\n",
      "We are playing 3 rounds!\n",
      "\n",
      "You will need to win 2 rounds sur 3\n",
      "Moves disponibles: ['rock ', 'paper', 'scissor', 'lizard', 'spock']\n",
      "\n",
      "What is your move?lizard\n",
      "You choose lizard vs The PC spock\n",
      "You lose\n",
      "The PC has 1 points\n",
      "You have 0 points\n",
      "\n",
      "Moves disponibles: ['rock ', 'paper', 'scissor', 'lizard', 'spock']\n",
      "\n",
      "What is your move?spock\n",
      "You choose spock vs The PC spock\n",
      "It's a tie!\n",
      "The PC has 1 points\n",
      "You have 0 points\n",
      "\n",
      "Moves disponibles: ['rock ', 'paper', 'scissor', 'lizard', 'spock']\n",
      "\n",
      "What is your move?rock\n",
      "You choose rock vs The PC spock\n",
      "You lose\n",
      "The PC has 2 points\n",
      "You have 0 points\n",
      "\n",
      "\n",
      " The PC got 2 wins and You only got 0 wins\n",
      "********** UHHUUL YOU LOSER **********\n"
     ]
    }
   ],
   "source": [
    "from random import choice\n",
    "from random import randint\n",
    "\n",
    "gestures_dispo2 = ['rock ', 'paper', 'scissor', 'lizard', 'spock']\n",
    "gestures_dict2 = {\"rock\": [\"scissor\", \"lizard\"], \"paper\": [\"rock\", \"spock\" ], \"scissor\": [\"lizard\", \"paper\"], \"spock\": [\"rock\", \"scissor\"], \"lizard\": [\"paper\", \"spock\"]}\n",
    "gestures_sheldon = list(gestures_dict2.keys())\n",
    "\n",
    "cpu_score2 = 0\n",
    "player_score2 = 0\n",
    "n_rounds2 = 0\n",
    "\n",
    "while n_rounds2 == 0:\n",
    "    while True:\n",
    "        try:\n",
    "            n_rounds2 = int(input('\\nHow many rounds this game will have?'))\n",
    "            if n_rounds2 % 2 == 0:\n",
    "                print(\"It will be hard to have a winner.\\n\")      \n",
    "                new_rounds2 = int(input(f\"Would you prefer play {n_rounds2 - 1} or {n_rounds2 + 1} rounds? \"))\n",
    "                if new_rounds2 == n_rounds2 - 1:\n",
    "                    n_rounds2 = new_rounds2\n",
    "                elif new_rounds2 == n_rounds2 + 1:\n",
    "                    n_rounds2 = new_rounds2\n",
    "                else:\n",
    "                    print(f\"{new_rounds2} is not possible. Let's re-start, okay?\")\n",
    "                    n_rounds2 = 0\n",
    "            if n_rounds2 % 2 != 0:\n",
    "                print(f\"We are playing {n_rounds2} rounds!\\n\")\n",
    "                if int(n_rounds2) > 9:\n",
    "                        print(\"Brace yourselves : this battle may be long...!\\n\")\n",
    "                        break\n",
    "                break\n",
    "        except ValueError:\n",
    "            print(f\"That's not a valid option.\")\n",
    "            n_rounds2 = 0\n",
    "            \n",
    "rounds_to_win2 = round((n_rounds2/2) + 0.5)\n",
    "print(f\"You will need to win {rounds_to_win2} rounds sur {n_rounds2}\")\n",
    "\n",
    "def cpu2(gestures_sheldon):\n",
    "    cpu_moves2 = choice(gestures_sheldon)\n",
    "    return cpu_moves2\n",
    "\n",
    "def player_move2(gestures_sheldon):\n",
    "    choix_player2 = 0\n",
    "    while choix_player2 == 0:\n",
    "            print(f\"Moves disponibles: {gestures_dispo2}\")\n",
    "            choix_player2 = (input(f\"\\nWhat is your move?\"))        \n",
    "            if choix_player2 in gestures_sheldon:\n",
    "                return choix_player2\n",
    "            else:\n",
    "                print(\"That's not a valid option.\")\n",
    "                choix_player2 = 0\n",
    "def move_winner2(cpu_choix2, player_choix2):\n",
    "    if cpu_choix2 == player_choix2:\n",
    "        return 0\n",
    "    else:\n",
    "        if (cpu_choix2 == \"rock\" and player_choix2 == \"scissors\"):\n",
    "            return 1\n",
    "        if (cpu_choix2 == \"rock\" and player_choix2 == \"lizard\"):\n",
    "            return 1\n",
    "        if (cpu_choix2 == \"paper\" and player_choix2 == \"rock\"): \n",
    "            return 1\n",
    "        if (cpu_choix == \"paper\" and player_choix2 == \"spock\"): \n",
    "            return 1\n",
    "        if (cpu_choix2 == \"scissors\" and player_choix2 == \"paper\"):\n",
    "            return 1\n",
    "        if (cpu_choix2 == \"scissors\" and player_choix2 == \"lizard\"):\n",
    "            return 1\n",
    "        if (cpu_choix2 == \"spock\" and player_choix2 == \"rock\"):\n",
    "            return 1\n",
    "        if (cpu_choix2 == \"spock\" and player_choix2 == \"scissors\"):\n",
    "            return 1\n",
    "        if (cpu_choix2 == \"lizard\" and player_choix2 == \"spock\"):\n",
    "            return 1\n",
    "        if (cpu_choix2 == \"lizard\" and player_choix2 == \"paper\"):\n",
    "            return 1\n",
    "        else:\n",
    "            return 2\n",
    "        \n",
    "def Rounds2(r):\n",
    "    resultat2 = {0: \"It's a tie!\", 1: \"You lose\", 2:\"You win\" }\n",
    "    print(\"You choose\", choix_player2, \"vs The PC\" , cpu_choix2)    \n",
    "    print(resultat2[r])\n",
    "\n",
    "\n",
    "total_rounds2 = 0\n",
    "while total_rounds2 < n_rounds2 and cpu_score2 < rounds_to_win2 and player_score2 < rounds_to_win2:\n",
    "    choix_player2 = player_move2(gestures_sheldon)\n",
    "    cpu_choix2 = cpu2(gestures_sheldon)\n",
    "    winner2 = move_winner2(choix_player2, cpu_choix2)\n",
    "    Rounds2(winner2)\n",
    "    total_rounds2 += 1\n",
    "    if winner2 == 1:\n",
    "        cpu_score2 += 1\n",
    "        print(f\"\"\"The PC has {cpu_score2} points\n",
    "You have {player_score2} points\\n\"\"\")\n",
    "    elif winner2 == 2:\n",
    "        player_score2 += 1\n",
    "        print(f\"\"\"The PC has {cpu_score2} points\n",
    "You have {player_score2} points\\n\"\"\")\n",
    "    else:\n",
    "        print(f\"\"\"The PC has {cpu_score2} points\n",
    "You have {player_score2} points\\n\"\"\")\n",
    "        \n",
    "if player_score2 > cpu_score2:\n",
    "            print(f\"\"\"\\n You got {player_score2} wins and the PC only got {cpu_score2} wins\n",
    "{'*'*10} UHHUUL YOU WINNER {'*'*10}\"\"\")        \n",
    "if player_score2 < cpu_score2:\n",
    "            print(f\"\"\"\\n The PC got {cpu_score2} wins and You only got {player_score2} wins\n",
    "{'*'*10} UHHUUL YOU LOSER {'*'*10}\"\"\")        \n",
    "if player_score2 == cpu_score2:\n",
    "            print(\"\\nIt's a tie! You can't let the machine walk free\")"
   ]
  },
  {
   "cell_type": "code",
   "execution_count": null,
   "metadata": {},
   "outputs": [],
   "source": []
  },
  {
   "cell_type": "code",
   "execution_count": null,
   "metadata": {},
   "outputs": [],
   "source": []
  },
  {
   "cell_type": "code",
   "execution_count": null,
   "metadata": {},
   "outputs": [],
   "source": []
  }
 ],
 "metadata": {
  "kernelspec": {
   "display_name": "Python 3",
   "language": "python",
   "name": "python3"
  },
  "language_info": {
   "codemirror_mode": {
    "name": "ipython",
    "version": 3
   },
   "file_extension": ".py",
   "mimetype": "text/x-python",
   "name": "python",
   "nbconvert_exporter": "python",
   "pygments_lexer": "ipython3",
   "version": "3.8.5"
  }
 },
 "nbformat": 4,
 "nbformat_minor": 2
}
