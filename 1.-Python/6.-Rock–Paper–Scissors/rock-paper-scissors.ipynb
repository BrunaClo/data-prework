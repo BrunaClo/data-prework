{
 "cells": [
  {
   "cell_type": "markdown",
   "metadata": {},
   "source": [
    "<img src=\"https://bit.ly/2VnXWr2\" width=\"100\" align=\"left\">"
   ]
  },
  {
   "cell_type": "markdown",
   "metadata": {},
   "source": [
    "# Rock, Paper & Scissors\n",
    "\n",
    "Let's play the famous game against our computer. You can check the rules [here](https://en.wikipedia.org/wiki/Rock%E2%80%93paper%E2%80%93scissors). \n",
    "\n",
    "## Task\n",
    "Create a program that imitates the playability of the well known game of rock, paper, scissors. Follow the guidelines provided.\n",
    "\n",
    "## Tools\n",
    "1. Loop: **for/while**\n",
    "2. Functions: **input(), print()...**\n",
    "3. Conditional statements: **if, elif, else**\n",
    "4. Definition of functions. Modular programming\n",
    "5. Import modules\n",
    "\n",
    "**To solve this challenge, the use of functions is recommended.**\n",
    "\n",
    "#### 1. Import the choice function of the random module."
   ]
  },
  {
   "cell_type": "code",
   "execution_count": null,
   "metadata": {},
   "outputs": [],
   "source": [
    "from random import choice\n",
    "from random import randint\n"
   ]
  },
  {
   "cell_type": "markdown",
   "metadata": {},
   "source": [
    "#### 2. Create a list that includes the 3 possible gesture options of the game: 'rock', 'paper' or 'scissors'. Store the list in a variable called `gestures`."
   ]
  },
  {
   "cell_type": "code",
   "execution_count": null,
   "metadata": {},
   "outputs": [],
   "source": [
    "gestures_dispo = ['rock ', 'paper', 'scissor']\n",
    "\n",
    "gestures_dict = {\"rock\": \"scissors\", \"paper\": \"rock\", \"scissors\": \"paper\"}\n",
    "gestures = list(gestures_dict.keys())\n"
   ]
  },
  {
   "cell_type": "markdown",
   "metadata": {},
   "source": [
    "#### 3. Create a variable called `n_rounds` to store the maximum number of rounds to play in a game. \n",
    "Remember that the number of rounds must be odd: 1, 3, 5, ..."
   ]
  },
  {
   "cell_type": "code",
   "execution_count": null,
   "metadata": {},
   "outputs": [],
   "source": [
    "n_rounds = 0\n",
    "\n",
    "while n_rounds == 0:\n",
    "    while True:\n",
    "        try:\n",
    "            n_rounds = int(input('\\nHow many rounds this game will have?'))\n",
    "            if n_rounds % 2 == 0:\n",
    "                print(\"It will be hard to have a winner.\\n\")      \n",
    "                new_rounds = int(input(f\"Would you prefer play {n_rounds - 1} or {n_rounds + 1} rounds? \"))\n",
    "                if new_rounds == n_rounds - 1:\n",
    "                    n_rounds = new_rounds\n",
    "                elif new_rounds == n_rounds + 1:\n",
    "                    n_rounds = new_rounds\n",
    "                else:\n",
    "                    print(f\"{new_rounds} is not possible. Let's re-start, okay?\")\n",
    "                    n_rounds = 0\n",
    "            if n_rounds % 2 != 0:\n",
    "                print(f\"We are playing {n_rounds} rounds!\\n\")\n",
    "                if int(n_rounds) > 9:\n",
    "                        print(\"Brace yourselves : this battle may be long...!\\n\")\n",
    "                        break\n",
    "                break\n",
    "        except ValueError:\n",
    "            print(f\"That's not a valid option.\")\n",
    "            n_rounds = 0\n",
    "\n"
   ]
  },
  {
   "cell_type": "markdown",
   "metadata": {},
   "source": [
    "#### 4. Create a variable called `rounds_to_win` to store the number of rounds that a player must win to win the game.\n",
    "**Hint**: the value stored in `rounds_to_win` depends on the value of `n_rounds`. "
   ]
  },
  {
   "cell_type": "code",
   "execution_count": null,
   "metadata": {},
   "outputs": [],
   "source": [
    "rounds_to_win = round((n_rounds/2) + 0.5)\n",
    "print(f\"You will need to win {rounds_to_win} rounds sur {n_rounds}\")"
   ]
  },
  {
   "cell_type": "markdown",
   "metadata": {},
   "source": [
    "#### 5. Create two variables to store the number of rounds that the computer and the player have won. Call these variables `cpu_score` and `player_score`."
   ]
  },
  {
   "cell_type": "code",
   "execution_count": null,
   "metadata": {},
   "outputs": [],
   "source": [
    "player_score = 0\n",
    "cpu_score = 0\n"
   ]
  },
  {
   "cell_type": "markdown",
   "metadata": {},
   "source": [
    "#### 6. Define a function that randomly returns one of the 3 gesture options.\n",
    "You will use this function to simulate the gesture choice of the computer. "
   ]
  },
  {
   "cell_type": "code",
   "execution_count": null,
   "metadata": {},
   "outputs": [],
   "source": [
    "def cpu(gestures):\n",
    "    cpu_moves = choice(gestures)\n",
    "    return cpu_moves"
   ]
  },
  {
   "cell_type": "markdown",
   "metadata": {},
   "source": [
    "#### 7. Define a function that asks the player which is the gesture he or she wants to show: 'rock', 'paper' or 'scissors'.\n",
    "The player should only be allowed to choose one of the 3 gesture options. If the player's choice is not rock, paper or scissors, keep asking until it is."
   ]
  },
  {
   "cell_type": "code",
   "execution_count": null,
   "metadata": {},
   "outputs": [],
   "source": [
    "def player_move(gestures):\n",
    "    choix_player = 0\n",
    "    while choix_player == 0:\n",
    "            print(f\"Moves disponibles: {gestures_dispo}\")\n",
    "            choix_player = (input(f\"\\nWhat is your move?\"))        \n",
    "            if choix_player in gestures:\n",
    "                return choix_player\n",
    "            else:\n",
    "                print(\"That's not a valid option.\")\n",
    "                choix_player = 0"
   ]
  },
  {
   "cell_type": "markdown",
   "metadata": {},
   "source": [
    "#### 8. Define a function that checks who won a round. \n",
    "The function should return 0 if there is a tie, 1 if the computer wins and 2 if the player wins."
   ]
  },
  {
   "cell_type": "code",
   "execution_count": null,
   "metadata": {},
   "outputs": [],
   "source": [
    "def move_winner(cpu_choix, player_choix):\n",
    "    if cpu_choix == player_choix:\n",
    "        return 0\n",
    "    else:\n",
    "        if (cpu_choix == \"rock\" and player_choix == \"scissors\"):\n",
    "            return 1\n",
    "        if (cpu_choix == \"paper\" and player_choix == \"rock\"): \n",
    "            return 1\n",
    "        if (cpu_choix == \"scissors\" and player_choix == \"paper\"):\n",
    "            return 1\n",
    "        else:\n",
    "            return 2"
   ]
  },
  {
   "cell_type": "markdown",
   "metadata": {},
   "source": [
    "#### 9. Define a function that prints the choice of the computer, the choice of the player and a message that announces who won the current round. \n",
    "You should also use this function to update the variables that count the number of rounds that the computer and the player have won. The score of the winner increases by one point. If there is a tie, the score does not increase."
   ]
  },
  {
   "cell_type": "code",
   "execution_count": null,
   "metadata": {},
   "outputs": [],
   "source": [
    "def Rounds(r):\n",
    "    resultat = {0: \"It's a tie!\", 1: \"You lose\", 2:\"You win\" }\n",
    "    print(\"You choose\", choix_player, \"vs The PC\" , cpu_choix)    \n",
    "    print(resultat[r])\n",
    "\n",
    "        \n",
    "    \n",
    "        \n",
    "        \n",
    "        \n",
    "    \n"
   ]
  },
  {
   "cell_type": "markdown",
   "metadata": {},
   "source": [
    "#### 10. Now it's time to code the execution of the game using the functions and variables you defined above. \n",
    "\n",
    "First, create a loop structure that repeats while no player reaches the minimum score necessary to win and the number of rounds is less than the maximum number of rounds to play in a game.  \n",
    "\n",
    "Inside the loop, use the functions and variables above to create the execution of a round: ask for the player's choice, generate the random choice of the computer, show the round results, update the scores, etc. "
   ]
  },
  {
   "cell_type": "code",
   "execution_count": null,
   "metadata": {},
   "outputs": [],
   "source": [
    " \n",
    "rounds_total = 0\n",
    "while rounds_total < (n_rounds) and cpu_score < rounds_to_win and player_score < rounds_to_win:\n",
    "    choix_player = player_move(gestures)\n",
    "    cpu_choix = cpu(gestures)\n",
    "    winner = move_winner(choix_player, cpu_choix)\n",
    "    Rounds(winner)\n",
    "    rounds_total += 1\n",
    "    if winner == 1:\n",
    "        cpu_score += 1\n",
    "        print(f\"\"\"The PC has {cpu_score} points\n",
    "You have {player_score} points\\n\"\"\")\n",
    "    elif winner == 2:\n",
    "        player_score += 1\n",
    "        print(f\"\"\"The PC has {cpu_score} points\n",
    "You have {player_score} points\\n\"\"\")\n",
    "    else:\n",
    "        print(f\"\"\"The PC has {cpu_score} points\n",
    "You have {player_score} points\\n\"\"\")\n",
    "    \n",
    " "
   ]
  },
  {
   "cell_type": "raw",
   "metadata": {},
   "source": [
    "#### 11. Print the winner of the game based on who won more rounds.\n",
    "Remember that the game might be tied. "
   ]
  },
  {
   "cell_type": "code",
   "execution_count": null,
   "metadata": {},
   "outputs": [],
   "source": [
    "\n",
    "if player_score > cpu_score:\n",
    "            print(f\"\"\"\\n You got {player_score} wins and the PC only got {cpu_score} wins\n",
    "{'*'*10} UHHUUL YOU WINNER {'*'*10}\"\"\")        \n",
    "if player_score < cpu_score:\n",
    "            print(f\"\"\"\\n The PC got {cpu_score} wins and You only got {player_score} wins\n",
    "{'*'*10} UHHUUL YOU LOSER {'*'*10}\"\"\")        \n",
    "if player_score == cpu_score:\n",
    "            print(\"\\nIt's a tie! You can't let the machine walk free\")\n",
    "        \n",
    "re_play = 0\n",
    "while re_play == 0:\n",
    "            re_play = (input(f\"\\nWould you like to re-play it? Yes (1) or No (2):\"))\n",
    "            if re_play == ('1'):\n",
    "                player_score = 0\n",
    "                cpu_score = 0\n",
    "                n_rounds = 0\n",
    "                rounds_total = 0\n",
    "            elif re_play == ('2'):\n",
    "                print(\"Thanks for playing\")\n",
    "                n_rounds = rounds_total\n",
    "                break      \n",
    "            else:\n",
    "                print(\"That's not a valid option\")\n",
    "                re_play = 0\n",
    "\n",
    "\n",
    "                "
   ]
  },
  {
   "cell_type": "markdown",
   "metadata": {},
   "source": [
    "# Bonus: Rock, Paper, Scissors, Lizard & Spock\n",
    "![](images/rpsls.jpg)\n",
    "\n",
    "In this challenge, you need to improve the previous game by adding two new options. To know more about the rules of the improved version of rock, paper, scissors, check this [link](http://www.samkass.com/theories/RPSSL.html). \n",
    "\n",
    "In addition, you will also need to improve how the game interacts with the player: the number of rounds to play, which must be an odd number, will be requested to the user until a valid number is entered. Define a new function to make that request.\n",
    "\n",
    "**Hint**: Try to reuse the code that you already coded in the previous challenge. If your code is efficient, this bonus will only consist of simple modifications to the original game."
   ]
  },
  {
   "cell_type": "code",
   "execution_count": 2,
   "metadata": {},
   "outputs": [
    {
     "name": "stdout",
     "output_type": "stream",
     "text": [
      "\n",
      "How many rounds this game will have?3\n",
      "We are playing 3 rounds!\n",
      "\n",
      "You will need to win 2 rounds sur 3\n",
      "Moves disponibles: ['rock ', 'paper', 'scissor', 'lizard', 'spock']\n",
      "\n",
      "What is your move?lizard\n"
     ]
    },
    {
     "ename": "KeyError",
     "evalue": "4",
     "output_type": "error",
     "traceback": [
      "\u001b[1;31m---------------------------------------------------------------------------\u001b[0m",
      "\u001b[1;31mKeyError\u001b[0m                                  Traceback (most recent call last)",
      "\u001b[1;32m<ipython-input-2-2b1de42022af>\u001b[0m in \u001b[0;36m<module>\u001b[1;34m\u001b[0m\n\u001b[0;32m     87\u001b[0m \u001b[1;32mwhile\u001b[0m \u001b[0mtotal_rounds2\u001b[0m \u001b[1;33m<\u001b[0m \u001b[0mn_rounds2\u001b[0m \u001b[1;32mand\u001b[0m \u001b[0mcpu_score2\u001b[0m \u001b[1;33m<\u001b[0m \u001b[0mrounds_to_win2\u001b[0m \u001b[1;32mand\u001b[0m \u001b[0mplayer_score2\u001b[0m \u001b[1;33m<\u001b[0m \u001b[0mrounds_to_win2\u001b[0m\u001b[1;33m:\u001b[0m\u001b[1;33m\u001b[0m\u001b[1;33m\u001b[0m\u001b[0m\n\u001b[0;32m     88\u001b[0m     \u001b[0mchoix_player2\u001b[0m \u001b[1;33m=\u001b[0m \u001b[0mplayer_move2\u001b[0m\u001b[1;33m(\u001b[0m\u001b[0mgestures_sheldon\u001b[0m\u001b[1;33m)\u001b[0m\u001b[1;33m\u001b[0m\u001b[1;33m\u001b[0m\u001b[0m\n\u001b[1;32m---> 89\u001b[1;33m     \u001b[0mcpu_choix2\u001b[0m \u001b[1;33m=\u001b[0m \u001b[0mcpu2\u001b[0m\u001b[1;33m(\u001b[0m\u001b[0mgestures_sheldon\u001b[0m\u001b[1;33m)\u001b[0m\u001b[1;33m\u001b[0m\u001b[1;33m\u001b[0m\u001b[0m\n\u001b[0m\u001b[0;32m     90\u001b[0m     \u001b[0mwinner2\u001b[0m \u001b[1;33m=\u001b[0m \u001b[0mmove_winner2\u001b[0m\u001b[1;33m(\u001b[0m\u001b[0mchoix_player2\u001b[0m\u001b[1;33m,\u001b[0m \u001b[0mcpu_choix2\u001b[0m\u001b[1;33m)\u001b[0m\u001b[1;33m\u001b[0m\u001b[1;33m\u001b[0m\u001b[0m\n\u001b[0;32m     91\u001b[0m     \u001b[0mRounds2\u001b[0m\u001b[1;33m(\u001b[0m\u001b[0mwinner2\u001b[0m\u001b[1;33m)\u001b[0m\u001b[1;33m\u001b[0m\u001b[1;33m\u001b[0m\u001b[0m\n",
      "\u001b[1;32m<ipython-input-2-2b1de42022af>\u001b[0m in \u001b[0;36mcpu2\u001b[1;34m(gestures_sheldon)\u001b[0m\n\u001b[0;32m     38\u001b[0m \u001b[1;33m\u001b[0m\u001b[0m\n\u001b[0;32m     39\u001b[0m \u001b[1;32mdef\u001b[0m \u001b[0mcpu2\u001b[0m\u001b[1;33m(\u001b[0m\u001b[0mgestures_sheldon\u001b[0m\u001b[1;33m)\u001b[0m\u001b[1;33m:\u001b[0m\u001b[1;33m\u001b[0m\u001b[1;33m\u001b[0m\u001b[0m\n\u001b[1;32m---> 40\u001b[1;33m     \u001b[0mcpu_moves2\u001b[0m \u001b[1;33m=\u001b[0m \u001b[0mchoice\u001b[0m\u001b[1;33m(\u001b[0m\u001b[0mgestures_sheldon\u001b[0m\u001b[1;33m)\u001b[0m\u001b[1;33m\u001b[0m\u001b[1;33m\u001b[0m\u001b[0m\n\u001b[0m\u001b[0;32m     41\u001b[0m     \u001b[1;32mreturn\u001b[0m \u001b[0mcpu_moves2\u001b[0m\u001b[1;33m\u001b[0m\u001b[1;33m\u001b[0m\u001b[0m\n\u001b[0;32m     42\u001b[0m \u001b[1;33m\u001b[0m\u001b[0m\n",
      "\u001b[1;32m~\\anaconda3\\lib\\random.py\u001b[0m in \u001b[0;36mchoice\u001b[1;34m(self, seq)\u001b[0m\n\u001b[0;32m    289\u001b[0m         \u001b[1;32mexcept\u001b[0m \u001b[0mValueError\u001b[0m\u001b[1;33m:\u001b[0m\u001b[1;33m\u001b[0m\u001b[1;33m\u001b[0m\u001b[0m\n\u001b[0;32m    290\u001b[0m             \u001b[1;32mraise\u001b[0m \u001b[0mIndexError\u001b[0m\u001b[1;33m(\u001b[0m\u001b[1;34m'Cannot choose from an empty sequence'\u001b[0m\u001b[1;33m)\u001b[0m \u001b[1;32mfrom\u001b[0m \u001b[1;32mNone\u001b[0m\u001b[1;33m\u001b[0m\u001b[1;33m\u001b[0m\u001b[0m\n\u001b[1;32m--> 291\u001b[1;33m         \u001b[1;32mreturn\u001b[0m \u001b[0mseq\u001b[0m\u001b[1;33m[\u001b[0m\u001b[0mi\u001b[0m\u001b[1;33m]\u001b[0m\u001b[1;33m\u001b[0m\u001b[1;33m\u001b[0m\u001b[0m\n\u001b[0m\u001b[0;32m    292\u001b[0m \u001b[1;33m\u001b[0m\u001b[0m\n\u001b[0;32m    293\u001b[0m     \u001b[1;32mdef\u001b[0m \u001b[0mshuffle\u001b[0m\u001b[1;33m(\u001b[0m\u001b[0mself\u001b[0m\u001b[1;33m,\u001b[0m \u001b[0mx\u001b[0m\u001b[1;33m,\u001b[0m \u001b[0mrandom\u001b[0m\u001b[1;33m=\u001b[0m\u001b[1;32mNone\u001b[0m\u001b[1;33m)\u001b[0m\u001b[1;33m:\u001b[0m\u001b[1;33m\u001b[0m\u001b[1;33m\u001b[0m\u001b[0m\n",
      "\u001b[1;31mKeyError\u001b[0m: 4"
     ]
    }
   ],
   "source": [
    "from random import choice\n",
    "\n",
    "\n",
    "gestures_dispo2 = ['rock ', 'paper', 'scissor', 'lizard', 'spock']\n",
    "gestures_sheldon = {\"rock\": [\"scissors\", \"lizard\"], \"paper\": [\"rock\", \"spock\" ], \"scissors\": [\"lizards\", \"paper\"], \"spock\": [\"rock\", \"scissors\"], \"lizard\": [\"paper\", \"spock\"]}\n",
    "gestures_list = list(gestures_sheldon.keys())\n",
    "\n",
    "cpu_score2 = 0\n",
    "player_score2 = 0\n",
    "n_rounds2 = 0\n",
    "\n",
    "while n_rounds2 == 0:\n",
    "    while True:\n",
    "        try:\n",
    "            n_rounds2 = int(input('\\nHow many rounds this game will have?'))\n",
    "            if n_rounds2 % 2 == 0:\n",
    "                print(\"It will be hard to have a winner.\\n\")      \n",
    "                new_rounds2 = int(input(f\"Would you prefer play {n_rounds2 - 1} or {n_rounds2 + 1} rounds? \"))\n",
    "                if new_rounds2 == n_rounds2 - 1:\n",
    "                    n_rounds2 = new_rounds2\n",
    "                elif new_rounds2 == n_rounds2 + 1:\n",
    "                    n_rounds2 = new_rounds2\n",
    "                else:\n",
    "                    print(f\"{new_rounds2} is not possible. Let's re-start, okay?\")\n",
    "                    n_rounds2 = 0\n",
    "            if n_rounds2 % 2 != 0:\n",
    "                print(f\"We are playing {n_rounds2} rounds!\\n\")\n",
    "                if int(n_rounds2) > 9:\n",
    "                        print(\"Brace yourselves : this battle may be long...!\\n\")\n",
    "                        break\n",
    "                break\n",
    "        except ValueError:\n",
    "            print(f\"That's not a valid option.\")\n",
    "            n_rounds2 = 0\n",
    "            \n",
    "rounds_to_win2 = round((n_rounds2/2) + 0.5)\n",
    "print(f\"You will need to win {rounds_to_win2} rounds sur {n_rounds2}\")\n",
    "\n",
    "def cpu2(gestures_sheldon):\n",
    "    cpu_moves2 = choice(gestures_sheldon)\n",
    "    return cpu_moves2\n",
    "\n",
    "def player_move2(gestures_sheldon):\n",
    "    choix_player2 = 0\n",
    "    while choix_player2 == 0:\n",
    "            print(f\"Moves disponibles: {gestures_dispo2}\")\n",
    "            choix_player2 = (input(f\"\\nWhat is your move?\"))        \n",
    "            if choix_player2 in gestures_sheldon:\n",
    "                return choix_player2\n",
    "            else:\n",
    "                print(\"That's not a valid option.\")\n",
    "                choix_player2 = 0\n",
    "def move_winner2(cpu_choix2, player_choix2):\n",
    "    if cpu_choix2 == player_choix2:\n",
    "        return 0\n",
    "    else:\n",
    "        if (cpu_choix2 == \"rock\" and player_choix2 == \"scissors\"):\n",
    "            return 1\n",
    "        if (cpu_choix2 == \"rock\" and player_choix2 == \"lizard\"):\n",
    "            return 1\n",
    "        if (cpu_choix2 == \"paper\" and player_choix2 == \"rock\"): \n",
    "            return 1\n",
    "        if (cpu_choix == \"paper\" and player_choix2 == \"spock\"): \n",
    "            return 1\n",
    "        if (cpu_choix2 == \"scissors\" and player_choix2 == \"paper\"):\n",
    "            return 1\n",
    "        if (cpu_choix2 == \"scissors\" and player_choix2 == \"lizard\"):\n",
    "            return 1\n",
    "        if (cpu_choix2 == \"spock\" and player_choix2 == \"rock\"):\n",
    "            return 1\n",
    "        if (cpu_choix2 == \"spock\" and player_choix2 == \"scissors\"):\n",
    "            return 1\n",
    "        if (cpu_choix2 == \"lizard\" and player_choix2 == \"spock\"):\n",
    "            return 1\n",
    "        if (cpu_choix2 == \"lizard\" and player_choix2 == \"paper\"):\n",
    "            return 1\n",
    "        else:\n",
    "            return 2\n",
    "        \n",
    "def Rounds2(r):\n",
    "    resultat2 = {0: \"It's a tie!\", 1: \"You lose\", 2:\"You win\" }\n",
    "    print(\"You choose\", choix_player2, \"vs The PC\" , cpu_choix2)    \n",
    "    print(resultat2[r])\n",
    "\n",
    "\n",
    "total_rounds2 = 0\n",
    "while total_rounds2 < n_rounds2 and cpu_score2 < rounds_to_win2 and player_score2 < rounds_to_win2:\n",
    "    choix_player2 = player_move2(gestures_sheldon)\n",
    "    cpu_choix2 = cpu2(gestures_sheldon)\n",
    "    winner2 = move_winner2(choix_player2, cpu_choix2)\n",
    "    Rounds2(winner2)\n",
    "    rounds_total2 += 1\n",
    "    if winner2 == 1:\n",
    "        cpu_score2 += 1\n",
    "        print(f\"\"\"The PC has {cpu_score2} points\n",
    "You have {player_score2} points\\n\"\"\")\n",
    "    elif winner2 == 2:\n",
    "        player_score2 += 1\n",
    "        print(f\"\"\"The PC has {cpu_score2} points\n",
    "You have {player_scor2e} points\\n\"\"\")\n",
    "    else:\n",
    "        print(f\"\"\"The PC has {cpu_score2} points\n",
    "You have {player_score2} points\\n\"\"\")\n",
    "        \n",
    "if player_score2 > cpu_score2:\n",
    "            print(f\"\"\"\\n You got {player_score2} wins and the PC only got {cpu_score2} wins\n",
    "{'*'*10} UHHUUL YOU WINNER {'*'*10}\"\"\")        \n",
    "if player_score2 < cpu_score2:\n",
    "            print(f\"\"\"\\n The PC got {cpu_score2} wins and You only got {player_score2} wins\n",
    "{'*'*10} UHHUUL YOU LOSER {'*'*10}\"\"\")        \n",
    "if player_score2 == cpu_score2:\n",
    "            print(\"\\nIt's a tie! You can't let the machine walk free\")"
   ]
  },
  {
   "cell_type": "code",
   "execution_count": null,
   "metadata": {},
   "outputs": [],
   "source": []
  },
  {
   "cell_type": "code",
   "execution_count": null,
   "metadata": {},
   "outputs": [],
   "source": []
  }
 ],
 "metadata": {
  "kernelspec": {
   "display_name": "Python 3",
   "language": "python",
   "name": "python3"
  }
 },
 "nbformat": 4,
 "nbformat_minor": 2
}
