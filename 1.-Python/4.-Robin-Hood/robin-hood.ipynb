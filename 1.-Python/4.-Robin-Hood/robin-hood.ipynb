{
 "cells": [
  {
   "cell_type": "markdown",
   "metadata": {},
   "source": [
    "<img src=\"https://bit.ly/2VnXWr2\" width=\"100\" align=\"left\"/>"
   ]
  },
  {
   "cell_type": "markdown",
   "metadata": {},
   "source": [
    "# Robin Hood\n",
    "Robin Hood has entered a competition to win the archery contest in Sherwood. With his bow and arrows, he needs to shoot on a target and try to hit as close as possible to the center.\n",
    "\n",
    "![](images/arrows.jpg)\n",
    "\n",
    "## Context\n",
    "In this challenge, the landing position of arrows shot by archers in the competition will be represented using 2-dimensional coordinates. \n",
    "\n",
    "In the 2-dimensional space, a point can be defined by a pair of values that correspond to the horizontal coordinate (x) and the vertical coordinate (y). For example, in our case, an arrow that hits the center of the archery target will land in position (0, 0) on the coordinate axes. \n",
    "\n",
    "The space can be divided into 4 zones (quadrants): Q1, Q2, Q3, Q4. If a point is in Q1, both its x coordinate and y coordinate are positive. Any point with a null x or y coordinate is considered to not belong to any quadrant. \n",
    "\n",
    "If you want to know more about the cartesian coordinate system, you can check this [link](https://en.wikipedia.org/wiki/Cartesian_coordinate_system). \n",
    "\n",
    "## Tools\n",
    "You don't necessarily need to use all the tools. Maybe you opt to use some of them or completely different ones, they are given to help you shape the exercise. Programming exercises can be solved in many different ways.\n",
    "* Data structures: **lists, sets, tuples**\n",
    "* Conditional statements: **if-elif-else**\n",
    "* Loop: **while/for**\n",
    "* Minimum (optional sorting)\n",
    "\n",
    "## Tasks\n",
    "Robin Hood has hit the following points:"
   ]
  },
  {
   "cell_type": "code",
   "execution_count": 1,
   "metadata": {},
   "outputs": [],
   "source": [
    "points = [(4, 5), (-0, 2), (4, 7), (1, -3), (3, -2), (4, 5), (3, 2), (5, 7), (-5, 7), (2, 2), (-4, 5), (0, -2),\n",
    "          (-4, 7), (-1, 3), (-3, 2), (-4, -5), (-3, 2), (5, 7), (5, 7), (2, 2), (9, 9), (-8, -9)]"
   ]
  },
  {
   "cell_type": "markdown",
   "metadata": {},
   "source": [
    "#### 1. Robin Hood is famous for hitting an arrow with another arrow. Find the coordinates of the points where an arrow hits another arrow."
   ]
  },
  {
   "cell_type": "code",
   "execution_count": 2,
   "metadata": {},
   "outputs": [
    {
     "name": "stdout",
     "output_type": "stream",
     "text": [
      "Robin Hood split arrows in theses coordinates:\n",
      "{(-3, 2), (4, 5), (5, 7), (2, 2)}\n"
     ]
    }
   ],
   "source": [
    "splitting_arrows = []\n",
    "\n",
    "for s in range(len(points)):\n",
    "    if points[s] in points[s+1:]:\n",
    "               splitting_arrows.append(points[s])\n",
    "print(f\"\"\"Robin Hood split arrows in theses coordinates:\n",
    "{set(splitting_arrows)}\"\"\")"
   ]
  },
  {
   "cell_type": "markdown",
   "metadata": {},
   "source": [
    "#### 2. Calculate how many arrows have fallen in each quadrant. \n",
    "**Note**: the arrows that fall in the axis (x=0 or y=0) don't belong to any quadrant."
   ]
  },
  {
   "cell_type": "code",
   "execution_count": 3,
   "metadata": {},
   "outputs": [
    {
     "name": "stdout",
     "output_type": "stream",
     "text": [
      "\n",
      "In the 1st round the arrows goes in the :\n",
      "1th Quadrant\n",
      "\n",
      "In the 2nd round the arrows goes in the:\n",
      "NO Quadrant\n",
      "\n",
      "In the 3rd round the arrows goes in the :\n",
      "1th Quadrant\n",
      "\n",
      "In the 4th round the arrows goes in the :\n",
      "4th Quadrant\n",
      "\n",
      "In the 5th round the arrows goes in the :\n",
      "4th Quadrant\n",
      "\n",
      "In the 6th round the arrows goes in the :\n",
      "1th Quadrant\n",
      "\n",
      "In the 7th round the arrows goes in the :\n",
      "1th Quadrant\n",
      "\n",
      "In the 8th round the arrows goes in the :\n",
      "1th Quadrant\n",
      "\n",
      "In the 9th round the arrows goes in the :\n",
      "2th Quadrant\n",
      "\n",
      "In the 10th round the arrows goes in the :\n",
      "1th Quadrant\n",
      "\n",
      "In the 11th round the arrows goes in the :\n",
      "2th Quadrant\n",
      "\n",
      "In the 12th round the arrows goes in the:\n",
      "NO Quadrant\n",
      "\n",
      "In the 13th round the arrows goes in the :\n",
      "2th Quadrant\n",
      "\n",
      "In the 14th round the arrows goes in the :\n",
      "2th Quadrant\n",
      "\n",
      "In the 15th round the arrows goes in the :\n",
      "2th Quadrant\n",
      "\n",
      "In the 16th round the arrows goes in the :\n",
      "3th Quadrant\n",
      "\n",
      "In the 17th round the arrows goes in the :\n",
      "2th Quadrant\n",
      "\n",
      "In the 18th round the arrows goes in the :\n",
      "1th Quadrant\n",
      "\n",
      "In the 19th round the arrows goes in the :\n",
      "1th Quadrant\n",
      "\n",
      "In the 20th round the arrows goes in the :\n",
      "1th Quadrant\n",
      "\n",
      "In the 21th round the arrows goes in the :\n",
      "1th Quadrant\n",
      "\n",
      "In the 22th round the arrows goes in the :\n",
      "3th Quadrant\n",
      "\n",
      "The aumont of arrows in each Quadrant is:\n",
      "Quadrant 1 = 10\n",
      "Quadrant 2 = 6\n",
      "Quadrant 3 = 2\n",
      "Quadrant 4 = 2\n",
      "No Quadrant = 2\n"
     ]
    }
   ],
   "source": [
    "Rounds = []\n",
    "for r in range(len(points)):\n",
    "                   if r == 0:\n",
    "                       Rounds.append(str(r+1) + \"st\")\n",
    "                   elif r == 1:\n",
    "                       Rounds.append(str(r+1) + \"nd\")\n",
    "                   elif r == 2:\n",
    "                       Rounds.append(str(r+1) + \"rd\")\n",
    "                   else :\n",
    "                      Rounds.append(str(r+1) + \"th\")\n",
    "                        \n",
    "Q1 = 0\n",
    "Q2 = 0\n",
    "Q3 = 0\n",
    "Q4 = 0\n",
    "Q0 = 0\n",
    "shots_rounds = 0\n",
    "\n",
    "while shots_rounds < len(points):\n",
    "    for x,y in points[shots_rounds:shots_rounds+1]:\n",
    "        if x > 0 and y > 0:\n",
    "          Q1 += 1\n",
    "          print(f\"\\nIn the %s round the arrows goes in the :\\n1th Quadrant\"% Rounds[shots_rounds])\n",
    "        if x < 0 and y > 0:\n",
    "          Q2 += 1\n",
    "          print(f\"\\nIn the %s round the arrows goes in the :\\n2th Quadrant\"% Rounds[shots_rounds])\n",
    "        if x < 0 and y < 0:\n",
    "            Q3 += 1\n",
    "            print(f\"\\nIn the %s round the arrows goes in the :\\n3th Quadrant\"% Rounds[shots_rounds])        \n",
    "        if x > 0 and y < 0:\n",
    "            Q4 += 1\n",
    "            print(f\"\\nIn the %s round the arrows goes in the :\\n4th Quadrant\"% Rounds[shots_rounds])\n",
    "        if x == 0 or y == 0:\n",
    "            Q0 += 1\n",
    "            print(f\"\\nIn the %s round the arrows goes in the:\\nNO Quadrant\"% Rounds[shots_rounds])\n",
    "    shots_rounds += 1\n",
    "   \n",
    "            \n",
    "print(f\"\"\"\\nThe aumont of arrows in each Quadrant is:\n",
    "Quadrant 1 = {Q1}\n",
    "Quadrant 2 = {Q2}\n",
    "Quadrant 3 = {Q3}\n",
    "Quadrant 4 = {Q4}\n",
    "No Quadrant = {Q0}\"\"\")        \n",
    "    \n",
    "\n",
    "#Quadrant\t\n",
    "#(horizontal)\tx\n",
    "#(vertical)     y\n",
    "#          x                y\n",
    "#I\tPositive\tPositive\t\n",
    "#II\tNegative\tPositive\t \n",
    "#III\tNegative\tNegative\t\n",
    "#IV\tPositive\tNegative"
   ]
  },
  {
   "cell_type": "markdown",
   "metadata": {},
   "source": [
    "#### 3. Find the point closest to the center. Calculate its distance to the center. \n",
    "Take into account that there might be more than one point at the minimum distance to the center.\n",
    "\n",
    "**Hint**: Use the Euclidean distance. You can find more information about it [here](https://en.wikipedia.org/wiki/Euclidean_distance).  \n",
    "**Hint**: Defining a function that calculates the distance to the center can help."
   ]
  },
  {
   "cell_type": "code",
   "execution_count": 4,
   "metadata": {},
   "outputs": [
    {
     "name": "stdout",
     "output_type": "stream",
     "text": [
      "\n",
      "The 1st shot is 6.4 away from the centre\n",
      "\n",
      "The 2nd shot is 2.0 away from the centre\n",
      "\n",
      "The 3rd shot is 8.1 away from the centre\n",
      "\n",
      "The 4th shot is 3.2 away from the centre\n",
      "\n",
      "The 5th shot is 3.6 away from the centre\n",
      "\n",
      "The 6th shot is 6.4 away from the centre\n",
      "\n",
      "The 7th shot is 3.6 away from the centre\n",
      "\n",
      "The 8th shot is 8.6 away from the centre\n",
      "\n",
      "The 9th shot is 8.6 away from the centre\n",
      "\n",
      "The 10th shot is 2.8 away from the centre\n",
      "\n",
      "The 11th shot is 6.4 away from the centre\n",
      "\n",
      "The 12th shot is 2.0 away from the centre\n",
      "\n",
      "The 13th shot is 8.1 away from the centre\n",
      "\n",
      "The 14th shot is 3.2 away from the centre\n",
      "\n",
      "The 15th shot is 3.6 away from the centre\n",
      "\n",
      "The 16th shot is 6.4 away from the centre\n",
      "\n",
      "The 17th shot is 3.6 away from the centre\n",
      "\n",
      "The 18th shot is 8.6 away from the centre\n",
      "\n",
      "The 19th shot is 8.6 away from the centre\n",
      "\n",
      "The 20th shot is 2.8 away from the centre\n",
      "\n",
      "The 21th shot is 12.7 away from the centre\n",
      "\n",
      "The 22th shot is 12.0 away from the centre\n",
      "\n",
      "The smallest distance from the centre is 2\n",
      "\n",
      "The closest point's arrows from the centre are :\n",
      "[(0, 2), (0, -2)]. The ['2nd', '12th'] shots respectively.\n"
     ]
    }
   ],
   "source": [
    "from math import sqrt\n",
    "import math\n",
    "plot_slot = 0\n",
    "closest_point = []\n",
    "closest_shot = []\n",
    "total_euc = []\n",
    "\n",
    "while plot_slot < (len(points)):\n",
    "    for x,y in points[plot_slot:plot_slot+1]:\n",
    "        distance_euc = sqrt(x**2 + y**2)\n",
    "        print(f\"\\nThe %s shot is {round(distance_euc,1)} away from the centre\"%Rounds[plot_slot])\n",
    "        while distance_euc == sqrt(x**2 + y**2):\n",
    "            total_euc.append(round(distance_euc))            \n",
    "            break\n",
    "    plot_slot += 1\n",
    "\n",
    "print(f\"\\nThe smallest distance from the centre is {min(total_euc)}\")\n",
    "\n",
    "espace = 0    \n",
    "for c in total_euc:\n",
    "        if c == min(total_euc):\n",
    "            closest_point.append(points[espace])\n",
    "            closest_shot.append(Rounds[espace])\n",
    "        espace += 1\n",
    "print(f\"\"\"\\nThe closest point's arrows from the centre are :\n",
    "{closest_point}. The {closest_shot} shots respectively.\"\"\")"
   ]
  },
  {
   "cell_type": "markdown",
   "metadata": {},
   "source": [
    "#### 4. If the archery target has a radius of 9, calculate the number of arrows that won't hit the target. \n",
    "**Hint**: Use the function created in step 3. "
   ]
  },
  {
   "cell_type": "code",
   "execution_count": 6,
   "metadata": {},
   "outputs": [
    {
     "name": "stdout",
     "output_type": "stream",
     "text": [
      "\n",
      "If the target had a radius of 9, Robin Hood would shot 2 arrows out of the targer.\n",
      "Respectively, the [(9, 9), (-8, -9)] point(s) in the ['21th', '22th'] round(s)\n"
     ]
    }
   ],
   "source": [
    "target_radius = 9\n",
    "\n",
    "arrows_hits = 0\n",
    "count = 0\n",
    "roam_arrow = []\n",
    "roam_round = []\n",
    "for p in total_euc:\n",
    "    if p > target_radius:\n",
    "        arrows_hits += 1\n",
    "        roam_arrow.append(points[count])\n",
    "        roam_round.append(Rounds[count])\n",
    "    count += 1\n",
    "print(f\"\"\"\\nIf the target had a radius of 9, Robin Hood would shot {arrows_hits} arrows out of the targer.\n",
    "Respectively, the {roam_arrow} point(s) in the {roam_round} round(s)\"\"\")"
   ]
  },
  {
   "cell_type": "code",
   "execution_count": null,
   "metadata": {},
   "outputs": [],
   "source": []
  }
 ],
 "metadata": {
  "kernelspec": {
   "display_name": "Python 3",
   "language": "python",
   "name": "python3"
  },
  "language_info": {
   "codemirror_mode": {
    "name": "ipython",
    "version": 3
   },
   "file_extension": ".py",
   "mimetype": "text/x-python",
   "name": "python",
   "nbconvert_exporter": "python",
   "pygments_lexer": "ipython3",
   "version": "3.8.5"
  }
 },
 "nbformat": 4,
 "nbformat_minor": 2
}
