{
 "cells": [
  {
   "cell_type": "markdown",
   "metadata": {},
   "source": [
    "<img src=\"https://bit.ly/2VnXWr2\" width=\"100\" align=\"left\">"
   ]
  },
  {
   "cell_type": "markdown",
   "metadata": {},
   "source": [
    "# Duel of Sorcerers\n",
    "You are witnessing an epic battle between two powerful sorcerers: Gandalf and Saruman. Each sorcerer has 10 spells of variable power in their mind and they are going to throw them one after the other. The winner of the duel will be the one who wins more of those clashes between spells. Spells are represented as a list of 10 integers whose value equals the power of the spell.\n",
    "```\n",
    "gandalf = [10, 11, 13, 30, 22, 11, 10, 33, 22, 22]\n",
    "saruman = [23, 66, 12, 43, 12, 10, 44, 23, 12, 17]\n",
    "```\n",
    "For example:\n",
    "- The first clash is won by Saruman: 10 against 23.\n",
    "- The second clash is won by Saruman: 11 against 66.\n",
    "- ...\n",
    "\n",
    "You will create two variables, one for each sorcerer, where the sum of clashes won will be stored. Depending on which variable is greater at the end of the duel, you will show one of the following three results on the screen:\n",
    "* Gandalf wins\n",
    "* Saruman wins\n",
    "* Tie\n",
    "\n",
    "<img src=\"images/content_lightning_bolt_big.jpg\" width=\"400\">"
   ]
  },
  {
   "cell_type": "markdown",
   "metadata": {},
   "source": [
    "## Tools\n",
    "You don't necessarily need to use all the tools. Maybe you opt to use some of them or completely different ones, they are given to help you shape the exercise. Programming exercises can be solved in many different ways.\n",
    "\n",
    "1. Data structures: **lists, dictionaries**\n",
    "2. Loop: **for loop**\n",
    "3. Conditional statements: **if-elif-else**\n",
    "4. Functions: **range(), len(), print()**\n",
    "\n",
    "## Tasks\n",
    "\n",
    "#### 1. Create two variables called `gandalf` and `saruman` and assign them the spell power lists. Create a variable called `spells` to store the number of spells that the sorcerers cast. "
   ]
  },
  {
   "cell_type": "code",
   "execution_count": 1,
   "metadata": {},
   "outputs": [],
   "source": [
    "gandalf = [10, 11, 13, 30, 22, 11, 10, 33, 22, 22]\n",
    "saruman = [23, 66, 12, 43, 12, 10, 44, 23, 12, 17]\n",
    "spells = len(saruman)\n",
    "Clashes = []\n",
    "for c in range(len(saruman)):\n",
    "                   if c == 0:\n",
    "                       Clashes.append(str(c+1) + \"st\")\n",
    "                   elif c == 1:\n",
    "                       Clashes.append(str(c+1) + \"nd\")\n",
    "                   elif c == 2:\n",
    "                       Clashes.append(str(c+1) + \"rd\")\n",
    "                   else :\n",
    "                      Clashes.append(str(c+1) + \"th\")\n",
    "\n",
    "                \n",
    "from time import sleep\n",
    "                   "
   ]
  },
  {
   "cell_type": "markdown",
   "metadata": {},
   "source": [
    "#### 2. Create two variables called `gandalf_wins` and `saruman_wins`. Set both of them to 0. \n",
    "You will use these variables to count the number of clashes each sorcerer wins. "
   ]
  },
  {
   "cell_type": "code",
   "execution_count": 2,
   "metadata": {},
   "outputs": [],
   "source": [
    "gandalf_wins = 0\n",
    "saruman_wins = 0\n",
    "ties = 0\n",
    "total_clashes = len(gandalf)"
   ]
  },
  {
   "cell_type": "markdown",
   "metadata": {},
   "source": [
    "#### 3. Using the lists of spells of both sorcerers, update variables `gandalf_wins` and `saruman_wins` to count the number of times each sorcerer wins a clash. "
   ]
  },
  {
   "cell_type": "code",
   "execution_count": 3,
   "metadata": {},
   "outputs": [
    {
     "name": "stdout",
     "output_type": "stream",
     "text": [
      "\tIt's time for the Duel of Sorcerers\n",
      "********** Are You Ready..? **********\n",
      "\t\tGo!\n"
     ]
    }
   ],
   "source": [
    "print(f\"\\tIt's time for the Duel of Sorcerers\")\n",
    "sleep\n",
    "print(f\"{'*'*10} Are You Ready..? {'*'*10}\")\n",
    "sleep\n",
    "print(f\"\\t\\tGo!\") \n",
    "for w in range(spells):\n",
    "    if gandalf[w] > saruman[w]:\n",
    "        gandalf_wins += 1\n",
    "    if saruman[w] > gandalf[w]:\n",
    "        saruman_wins += 1\n",
    "        "
   ]
  },
  {
   "cell_type": "markdown",
   "metadata": {},
   "source": [
    "#### 4. Who won the battle?\n",
    "Print `Gandalf wins`, `Saruman wins` or `Tie` depending on the result. "
   ]
  },
  {
   "cell_type": "code",
   "execution_count": 4,
   "metadata": {},
   "outputs": [
    {
     "name": "stdout",
     "output_type": "stream",
     "text": [
      "\n",
      "Gandalf's spell power is (10) x Saruman's spell power(23)\n",
      "\n",
      "The 1st clash is acquired by Saruman\n",
      "\n",
      "Gandalf's spell power is (11) x Saruman's spell power(66)\n",
      "\n",
      "The 2nd clash is acquired by Saruman\n",
      "\n",
      "Gandalf's spell power is (13) x Saruman's spell power(12)\n",
      "\n",
      "The 3rd clash is acquired by Gandalf\n",
      "\n",
      "Gandalf's spell power is (30) x Saruman's spell power(43)\n",
      "\n",
      "The 4th clash is acquired by Saruman\n",
      "\n",
      "Gandalf's spell power is (22) x Saruman's spell power(12)\n",
      "\n",
      "The 5th clash is acquired by Gandalf\n",
      "\n",
      "Gandalf's spell power is (11) x Saruman's spell power(10)\n",
      "\n",
      "The 6th clash is acquired by Gandalf\n",
      "\n",
      "Gandalf's spell power is (10) x Saruman's spell power(44)\n",
      "\n",
      "The 7th clash is acquired by Saruman\n",
      "\n",
      "Gandalf's spell power is (33) x Saruman's spell power(23)\n",
      "\n",
      "The 8th clash is acquired by Gandalf\n",
      "\n",
      "Gandalf's spell power is (22) x Saruman's spell power(12)\n",
      "\n",
      "The 9th clash is acquired by Gandalf\n",
      "\n",
      "Gandalf's spell power is (22) x Saruman's spell power(17)\n",
      "\n",
      "The 10th clash is acquired by Gandalf\n",
      "\n",
      "Gandalf scores 6 of 10 battles and Saruman scores 4 of 10 battles.\n",
      "\n",
      "\t********** Gandalf Wins The Battle **********\n",
      "    'Tell me, friend, when did Saruman The Wise abandon reason for madness?'\n"
     ]
    }
   ],
   "source": [
    "clashes_round = 0\n",
    "\n",
    "while clashes_round < len(saruman):\n",
    "    print(f\"\\nGandalf's spell power is ({gandalf[clashes_round]}) x Saruman's spell power({saruman[clashes_round]})\") \n",
    "    if gandalf[clashes_round] == saruman[clashes_round]:\n",
    "        print(f\"\\nThe %s clash is a tie!\" % Clashes[clashes_round])\n",
    "    elif gandalf[clashes_round] < saruman[clashes_round]:\n",
    "        print(f\"\\nThe %s clash is acquired by Saruman\" % Clashes[clashes_round])\n",
    "    else:\n",
    "        print(f\"\\nThe %s clash is acquired by Gandalf\" % Clashes[clashes_round])\n",
    "    clashes_round += 1\n",
    "    sleep(1)\n",
    "    \n",
    "print(\"\\nGandalf scores %d of %d battles and Saruman scores %d of %d battles.\" % (gandalf_wins, total_clashes, saruman_wins, total_clashes))\n",
    "if gandalf_wins > saruman_wins:\n",
    "    print(f\"\"\"\\n\\t{'*'*10} Gandalf Wins The Battle {'*'*10}\n",
    "    'Tell me, friend, when did Saruman The Wise abandon reason for madness?'\"\"\")\n",
    "elif saruman_wins > gandalf_wins:\n",
    "    print(f\"\"\"\\n\\t{'*'*10} Saruman Wins The Battle {'*'*10}\n",
    "    'You Have Elected The Way Of ... Pain!'\"\"\")\n",
    "else:\n",
    "    print(f\"\\n\\t{'*'*10} It's a Tie {'*'*10}\\n'Or Simply Losers'\")\n",
    "sleep(1)"
   ]
  },
  {
   "cell_type": "markdown",
   "metadata": {},
   "source": [
    "## Bonus\n",
    "\n",
    "In this bonus challenge, you'll need to check the winner of the battle but this time, a sorcerer wins if he succeeds in winning 3 spell clashes in a row.\n",
    "\n",
    "Also, the spells now have a name and there is a dictionary that associates that name to a power.\n",
    "\n",
    "```\n",
    "POWER = {\n",
    "    'Fireball': 50, \n",
    "    'Lightning bolt': 40, \n",
    "    'Magic arrow': 10, \n",
    "    'Black Tentacles': 25, \n",
    "    'Contagion': 45\n",
    "}\n",
    "\n",
    "gandalf = ['Fireball', 'Lightning bolt', 'Lightning bolt', 'Magic arrow', 'Fireball', \n",
    "           'Magic arrow', 'Lightning bolt', 'Fireball', 'Fireball', 'Fireball']\n",
    "saruman = ['Contagion', 'Contagion', 'Black Tentacles', 'Fireball', 'Black Tentacles', \n",
    "           'Lightning bolt', 'Magic arrow', 'Contagion', 'Magic arrow', 'Magic arrow']\n",
    "```\n",
    "\n",
    "#### 1. Create variables `POWER`, `gandalf` and `saruman` as seen above. Create a variable called `spells` to store the number of spells that the sorcerers cast. "
   ]
  },
  {
   "cell_type": "code",
   "execution_count": 5,
   "metadata": {},
   "outputs": [],
   "source": [
    "POWER = {\n",
    "    'Fireball': 50, \n",
    "    'Lightning bolt': 40, \n",
    "    'Magic arrow': 10, \n",
    "    'Black Tentacles': 25, \n",
    "    'Contagion': 45\n",
    "}\n",
    "\n",
    "gandalf_spells = [\n",
    "    'Fireball',\n",
    "    'Lightning bolt',\n",
    "    'Lightning bolt',\n",
    "    'Magic arrow',\n",
    "    'Fireball',\n",
    "    'Magic arrow',\n",
    "    'Lightning bolt',\n",
    "    'Fireball',\n",
    "    'Fireball',\n",
    "    'Fireball'\n",
    "]\n",
    "\n",
    "\n",
    "saruman_spells = [\n",
    "    'Contagion',\n",
    "    'Contagion',\n",
    "    'Black Tentacles',\n",
    "    'Fireball',\n",
    "    'Black Tentacles',\n",
    "    'Lightning bolt',\n",
    "    'Magic arrow',\n",
    "    'Contagion',\n",
    "    'Magic arrow',\n",
    "    'Magic arrow'\n",
    "]\n",
    "\n",
    "spells = 0"
   ]
  },
  {
   "cell_type": "markdown",
   "metadata": {},
   "source": [
    "#### 2. Create two variables called `gandalf_wins` and `saruman_wins`. Set both of them to 0. "
   ]
  },
  {
   "cell_type": "code",
   "execution_count": 6,
   "metadata": {},
   "outputs": [],
   "source": [
    "gandalf_wins2 = 0\n",
    "saruman_wins2 = 0\n",
    "ties2 = 0\n",
    "clashes_rounds = 0\n",
    "last_winner = None\n"
   ]
  },
  {
   "cell_type": "markdown",
   "metadata": {},
   "source": [
    "#### 3. Create two variables called `gandalf_power` and `saruman_power` to store the list of spell powers of each sorcerer."
   ]
  },
  {
   "cell_type": "code",
   "execution_count": 7,
   "metadata": {},
   "outputs": [],
   "source": [
    "gandalf_power = []\n",
    "for spell_name in gandalf_spells:\n",
    "    gandalf_power.append(POWER[spell_name])\n",
    "\n",
    "    \n",
    "saruman_power =[]\n",
    "for spell_name in saruman_spells:\n",
    "    saruman_power.append(POWER[spell_name])  "
   ]
  },
  {
   "cell_type": "markdown",
   "metadata": {},
   "source": [
    "#### 4. The battle starts! Using the variables you've created above, code the execution of spell clashes. Remember that a sorcerer wins if he succeeds in winning 3 spell clashes in a row. \n",
    "If a clash ends up in a tie, the counter of wins in a row is not restarted to 0. Remember to print who is the winner of the battle. "
   ]
  },
  {
   "cell_type": "code",
   "execution_count": 8,
   "metadata": {},
   "outputs": [
    {
     "name": "stdout",
     "output_type": "stream",
     "text": [
      "\n",
      "'We are not finished yet!' Says Saruman\n",
      "\n",
      "\t ********* Saruman rises back! *********\n",
      "\n",
      "The New Strength of the Sorcerers' spells :\n",
      "\n",
      "Gandalf's spells : [50, 40, 40, 10, 50, 10, 40, 50, 50, 50]\n",
      "Saruman's spells : [45, 45, 25, 50, 25, 40, 10, 45, 10, 10]\n",
      "\n",
      "\t ********** The Battle Re-Starts! **********\n",
      "\n",
      "1st round : Gandalf's spell power(50) x Saruman's spell power(45)\n",
      "Gandalf wins the 1st round\n",
      "Gandalf has 1 victoire(s)\n",
      "\n",
      "\n",
      "2nd round : Gandalf's spell power(40) x Saruman's spell power(45)\n",
      "Saruman wins the 2nd round\n",
      "Saruman has 1 victoire(s)\n",
      "\n",
      "\n",
      "3rd round : Gandalf's spell power(40) x Saruman's spell power(25)\n",
      "Gandalf wins the 3rd round\n",
      "Gandalf has 1 victoire(s)\n",
      "\n",
      "\n",
      "4th round : Gandalf's spell power(10) x Saruman's spell power(50)\n",
      "Saruman wins the 4th round\n",
      "Saruman has 1 victoire(s)\n",
      "\n",
      "\n",
      "5th round : Gandalf's spell power(50) x Saruman's spell power(25)\n",
      "Gandalf wins the 5th round\n",
      "Gandalf has 1 victoire(s)\n",
      "\n",
      "\n",
      "6th round : Gandalf's spell power(10) x Saruman's spell power(40)\n",
      "Saruman wins the 6th round\n",
      "Saruman has 1 victoire(s)\n",
      "\n",
      "\n",
      "7th round : Gandalf's spell power(40) x Saruman's spell power(10)\n",
      "Gandalf wins the 7th round\n",
      "Gandalf has 1 victoire(s)\n",
      "\n",
      "\n",
      "8th round : Gandalf's spell power(50) x Saruman's spell power(45)\n",
      "Gandalf wins the 8th round\n",
      "Gandalf has 2 victoire(s)\n",
      "\n",
      "\n",
      "9th round : Gandalf's spell power(50) x Saruman's spell power(10)\n",
      "Gandalf wins the 9th round\n",
      "Gandalf has 3 victoire(s)\n",
      "\n",
      "\t********** GANDALF DESTROYED SARUMAN **********\n"
     ]
    }
   ],
   "source": [
    "print(f\"\\n'We are not finished yet!' Says Saruman\")\n",
    "sleep(1)\n",
    "print(f\"\\n\\t {'*'*9} Saruman rises back! {'*'*9}\")\n",
    "sleep(1)\n",
    "print(f\"\\nThe New Strength of the Sorcerers' spells :\")    \n",
    "print (f\"\\nGandalf's spells : {gandalf_power}\")\n",
    "print (f\"Saruman's spells : {saruman_power}\")\n",
    "sleep(1)\n",
    "print(f\"\\n\\t {'*'*10} The Battle Re-Starts! {'*'*10}\")\n",
    "sleep(1)\n",
    "\n",
    "\n",
    "\n",
    "for clashes_round in range(len(gandalf_power)):\n",
    "    gandalf_force = gandalf_power[clashes_round]\n",
    "    saruman_force = saruman_power[clashes_round]\n",
    "    print(f\"\\n%s round : Gandalf's spell power({gandalf_force}) x Saruman's spell power({saruman_force})\"% Clashes[clashes_round])\n",
    "    sleep(1)\n",
    "    if gandalf_force == saruman_force:\n",
    "        print(f\"It's a Draw!\")\n",
    "    if gandalf_force > saruman_force:\n",
    "            if last_winner != 'Gandalf':\n",
    "                last_winner = 'Gandalf'\n",
    "                gandalf_wins2 = 1\n",
    "            else:\n",
    "               gandalf_wins2 += 1 \n",
    "            print(f\"Gandalf wins the %s round\"% Clashes[clashes_round])\n",
    "            print(f\"Gandalf has {gandalf_wins2} victoire(s)\\n\")\n",
    "    if gandalf_force < saruman_force:\n",
    "            if last_winner != 'Saruman':\n",
    "                last_winner = 'Saruman'\n",
    "                saruman_wins2 = 1\n",
    "            else:\n",
    "                saruman_wins2 += 1\n",
    "            print(f\"Saruman wins the %s round\"% Clashes[clashes_round])\n",
    "            print(f\"Saruman has {saruman_wins2} victoire(s)\\n\")\n",
    "    if gandalf_wins2 == 3:\n",
    "            print(f\"\\t{'*'*10} GANDALF DESTROYED SARUMAN {'*'*10}\")\n",
    "            break\n",
    "    if saruman_wins2 == 3:\n",
    "            print(f\"\\t{'*'*10} SARUMAN DESTROYED GANDALF {'*'*10}\")\n",
    "            break\n"
   ]
  },
  {
   "cell_type": "markdown",
   "metadata": {},
   "source": [
    "#### 5. Find the average spell power of Gandalf and Saruman. "
   ]
  },
  {
   "cell_type": "code",
   "execution_count": 9,
   "metadata": {},
   "outputs": [
    {
     "name": "stdout",
     "output_type": "stream",
     "text": [
      "\n",
      "Gandalf's Avarege Spell Power is 39.0\n",
      "\n",
      "Saruman's Avarage Spell Power is 30.5\n"
     ]
    }
   ],
   "source": [
    "avg_spell_power_gandalf = (round(sum(gandalf_power)/len(gandalf_power),1))\n",
    "print(\"\\nGandalf's Avarege Spell Power is\",avg_spell_power_gandalf)\n",
    "\n",
    "avg_spell_power_saruman = (round(sum(saruman_power)/len(saruman_power),1))\n",
    "print(\"\\nSaruman's Avarage Spell Power is\",avg_spell_power_saruman) "
   ]
  },
  {
   "cell_type": "markdown",
   "metadata": {},
   "source": [
    "#### 6. Find the standard deviation of the spell power of Gandalf and Saruman. "
   ]
  },
  {
   "cell_type": "code",
   "execution_count": 11,
   "metadata": {},
   "outputs": [
    {
     "name": "stdout",
     "output_type": "stream",
     "text": [
      "\n",
      "Gandalf's Spell Power Standard Deviation is 15.95\n",
      "\n",
      "Saruman's Spell Power Standard Deviation is 16.41\n"
     ]
    }
   ],
   "source": [
    "import statistics\n",
    "\n",
    "std_dev_gandalf = round(statistics.stdev(gandalf_power),2)\n",
    "print(\"\\nGandalf's Spell Power Standard Deviation is\",std_dev_gandalf)\n",
    "\n",
    "std_dev_saruman = round(statistics.stdev(saruman_power),2)\n",
    "print(\"\\nSaruman's Spell Power Standard Deviation is\",std_dev_saruman)"
   ]
  },
  {
   "cell_type": "code",
   "execution_count": null,
   "metadata": {},
   "outputs": [],
   "source": []
  }
 ],
 "metadata": {
  "kernelspec": {
   "display_name": "Python 3",
   "language": "python",
   "name": "python3"
  },
  "language_info": {
   "codemirror_mode": {
    "name": "ipython",
    "version": 3
   },
   "file_extension": ".py",
   "mimetype": "text/x-python",
   "name": "python",
   "nbconvert_exporter": "python",
   "pygments_lexer": "ipython3",
   "version": "3.8.5"
  }
 },
 "nbformat": 4,
 "nbformat_minor": 2
}
